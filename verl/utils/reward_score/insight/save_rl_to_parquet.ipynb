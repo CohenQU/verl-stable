{
 "cells": [
  {
   "cell_type": "code",
   "execution_count": 1,
   "metadata": {},
   "outputs": [
    {
     "data": {
      "text/plain": [
       "DatasetDict({\n",
       "    train: Dataset({\n",
       "        features: ['joint_prompt', 'paper1_prompt', 'paper2_prompt', 'no_context_prompt', 'abstracts', 'forum_id_1', 'forum_id_2', 'pair_id'],\n",
       "        num_rows: 99897\n",
       "    })\n",
       "    test: Dataset({\n",
       "        features: ['joint_prompt', 'paper1_prompt', 'paper2_prompt', 'no_context_prompt', 'abstracts', 'forum_id_1', 'forum_id_2', 'pair_id'],\n",
       "        num_rows: 100\n",
       "    })\n",
       "})"
      ]
     },
     "execution_count": 1,
     "metadata": {},
     "output_type": "execute_result"
    }
   ],
   "source": [
    "import datasets\n",
    "\n",
    "ds = datasets.load_dataset('joyheyueya/250428_abstract_pair', split='train')\n",
    "ds = ds.train_test_split(test_size=0.001, seed=42)\n",
    "ds"
   ]
  },
  {
   "cell_type": "code",
   "execution_count": 2,
   "metadata": {},
   "outputs": [
    {
     "data": {
      "text/plain": [
       "{'joint_prompt': 'Your task is to identify and elaborate on an insight that only becomes apparent by combining information from both documents together—i.e., an insight that has high relevance when treating the documents jointly but low relevance if you were to consider each document alone. Write the insight as a standalone statement that does not reference the original texts or use terms like \"paper\" or \"document\". The insight should involve indirect connections or intermediate reasoning steps, such as linking cause and effect through a shared variable or mechanism. Here are some examples: Let A = magnesium — either dietary or internal to the body. Implicitly refers, inmost cases, to quantity of magnesium. Let M = migraine headache. Let L = one or more intermediate physiological links.  -> means \\'can or might influence\\'. == means \\'equivalent in action\\' or \\'equivalent in mechanism\\' depending on whether it connects two drugs or two diseases. Paper 1:\\nStress and Type A behavior are associated with migraine.\\nPaper 2:\\nStress and Type A behavior lead to body loss of magnesium.\\nFrom these, we infer: Let B = Stress and Type A behavior. Let A = Magnesium levels. Let M = Migraines. From paper 1: B -> M. From Paper 2: B -> A. This suggests A may mediate the effect of B on M, i.e., A -> M. <insight>Low magnesium levels may be an intermediate link through which stress and Type A behavior contribute to migraines.</insight>\\nPaper 1:\\nExcessive vascular tone and reactivity may increase susceptibility to migraine.\\nPaper 2:\\nMagnesium can reduce vascular tone and reactivity.\\nWe define: A = Magnesium. L = Vascular tone and reactivity. M = Migraine. From these: (a) suggests L -> M. (b) suggests A -> L. Therefore, combining the two leads to: A -> M. <insight>Magnesium may help reduce migraine susceptibility by lowering vascular tone and reactivity.</insight>\\nPaper 1:\\nCalcium channel blockers have been used successfully in preventing migraine attacks.\\nPaper 2:\\nMagnesium is a natural calcium channel blocker.\\nWe define: A = Magnesium. B = Calcium channel blockers. M = Migraine. From these:(a) suggests B -> M (i.e., B prevents M). (b) suggests A == B (A is equivalent to B in mechanism). Therefore: A -> M. <insight>Magnesium may help prevent migraine attacks because it acts as a natural calcium channel blocker, similar to drugs already known to be effective.</insight>\\nPaper 1:\\nCurrent benchmarks like ``$\\\\textit{Needle-in-a-Haystack}$\\'\\' ($\\\\textit{NIAH}$), $\\\\textit{Ruler}$, and $\\\\textit{Needlebench}$ focus on models\\' ability to understand long-context input sequences but fail to capture a critical dimension: the generation of high-quality long-form text. Applications such as design proposals, technical documentation, and creative writing rely on coherent, instruction-following outputs over extended sequences—a challenge that existing benchmarks do not adequately address. To fill this gap, we introduce $\\\\textit{LongGenBench}$, a novel benchmark designed to rigorously evaluate large language models\\' (LLMs) ability to generate long text while adhering to complex instructions. Through tasks requiring specific events or constraints within generated text, $\\\\textit{LongGenBench}$ evaluates model performance across four distinct scenarios, three instruction types, and two generation-lengths (16K and 32K tokens). Our evaluation of ten state-of-the-art LLMs reveals that, despite strong results on $\\\\textit{Ruler}$, all models struggled with long text generation on $\\\\textit{LongGenBench}$, particularly as text length increased. This suggests that current LLMs are not yet equipped to meet the demands of real-world, long-form text generation. We open-source $\\\\textit{LongGenBench}$ to promote comprehensive evaluation and improvement in this critical area, with code and data available at ${anonymousurl}$.\\nPaper 2:\\nLarge Multimodal Models (LMMs) have made significant strides in visual question-answering for single images. Recent advancements like long-context LMMs have allowed them to ingest larger, or even multiple, images. However, the ability to process a large number of visual tokens does not guarantee effective retrieval and reasoning for multi-image question answering (MIQA), especially in real-world applications like photo album searches or satellite imagery analysis. In this work, we first assess the limitations of current benchmarks for long-context LMMs. We address these limitations by introducing a new vision-centric, long-context benchmark, \"Visual Haystacks (VHs)\". We comprehensively evaluate both open-source and proprietary models on VHs, and demonstrate that these models struggle when reasoning across potentially unrelated images, perform poorly on cross-image reasoning, as well as exhibit biases based on the placement of key information within the context window. Towards a solution, we introduce MIRAGE (Multi-Image Retrieval Augmented Generation), an open-source, lightweight visual-RAG framework that processes up to 10k images on a single 40G A100 GPU—far surpassing the 1k-image limit of contemporary models. MIRAGE demonstrates up to 13% performance improvement over existing open-source LMMs on VHs, sets a new state-of-the-art on the RetVQA multi-image QA benchmark, and achieves competitive performance on single-image QA with state-of-the-art LMMs. Our dataset, model, and code are available at: https://visual-haystacks.github.io.\\nPut the insight between <insight> and </insight> tagsLet\\'s think step by step. ',\n",
       " 'paper1_prompt': 'Paper:\\nCurrent benchmarks like ``$\\\\textit{Needle-in-a-Haystack}$\\'\\' ($\\\\textit{NIAH}$), $\\\\textit{Ruler}$, and $\\\\textit{Needlebench}$ focus on models\\' ability to understand long-context input sequences but fail to capture a critical dimension: the generation of high-quality long-form text. Applications such as design proposals, technical documentation, and creative writing rely on coherent, instruction-following outputs over extended sequences—a challenge that existing benchmarks do not adequately address. To fill this gap, we introduce $\\\\textit{LongGenBench}$, a novel benchmark designed to rigorously evaluate large language models\\' (LLMs) ability to generate long text while adhering to complex instructions. Through tasks requiring specific events or constraints within generated text, $\\\\textit{LongGenBench}$ evaluates model performance across four distinct scenarios, three instruction types, and two generation-lengths (16K and 32K tokens). Our evaluation of ten state-of-the-art LLMs reveals that, despite strong results on $\\\\textit{Ruler}$, all models struggled with long text generation on $\\\\textit{LongGenBench}$, particularly as text length increased. This suggests that current LLMs are not yet equipped to meet the demands of real-world, long-form text generation. We open-source $\\\\textit{LongGenBench}$ to promote comprehensive evaluation and improvement in this critical area, with code and data available at ${anonymousurl}$.\\nYour task is to identify and elaborate on an insight from the paper. The insight should be self-contained. Write it in a way that doesn’t require referencing where it came from. Do not mention the word \"paper\" or \"document\". Let\\'s think step by step. ',\n",
       " 'paper2_prompt': 'Paper:\\nLarge Multimodal Models (LMMs) have made significant strides in visual question-answering for single images. Recent advancements like long-context LMMs have allowed them to ingest larger, or even multiple, images. However, the ability to process a large number of visual tokens does not guarantee effective retrieval and reasoning for multi-image question answering (MIQA), especially in real-world applications like photo album searches or satellite imagery analysis. In this work, we first assess the limitations of current benchmarks for long-context LMMs. We address these limitations by introducing a new vision-centric, long-context benchmark, \"Visual Haystacks (VHs)\". We comprehensively evaluate both open-source and proprietary models on VHs, and demonstrate that these models struggle when reasoning across potentially unrelated images, perform poorly on cross-image reasoning, as well as exhibit biases based on the placement of key information within the context window. Towards a solution, we introduce MIRAGE (Multi-Image Retrieval Augmented Generation), an open-source, lightweight visual-RAG framework that processes up to 10k images on a single 40G A100 GPU—far surpassing the 1k-image limit of contemporary models. MIRAGE demonstrates up to 13% performance improvement over existing open-source LMMs on VHs, sets a new state-of-the-art on the RetVQA multi-image QA benchmark, and achieves competitive performance on single-image QA with state-of-the-art LMMs. Our dataset, model, and code are available at: https://visual-haystacks.github.io.\\nYour task is to identify and elaborate on an insight from the paper. The insight should be self-contained. Write it in a way that doesn’t require referencing where it came from. Do not mention the word \"paper\" or \"document\". Let\\'s think step by step. ',\n",
       " 'no_context_prompt': 'Give me an insight. ',\n",
       " 'abstracts': [\"Current benchmarks like ``$\\\\textit{Needle-in-a-Haystack}$'' ($\\\\textit{NIAH}$), $\\\\textit{Ruler}$, and $\\\\textit{Needlebench}$ focus on models' ability to understand long-context input sequences but fail to capture a critical dimension: the generation of high-quality long-form text. Applications such as design proposals, technical documentation, and creative writing rely on coherent, instruction-following outputs over extended sequences—a challenge that existing benchmarks do not adequately address. To fill this gap, we introduce $\\\\textit{LongGenBench}$, a novel benchmark designed to rigorously evaluate large language models' (LLMs) ability to generate long text while adhering to complex instructions. Through tasks requiring specific events or constraints within generated text, $\\\\textit{LongGenBench}$ evaluates model performance across four distinct scenarios, three instruction types, and two generation-lengths (16K and 32K tokens). Our evaluation of ten state-of-the-art LLMs reveals that, despite strong results on $\\\\textit{Ruler}$, all models struggled with long text generation on $\\\\textit{LongGenBench}$, particularly as text length increased. This suggests that current LLMs are not yet equipped to meet the demands of real-world, long-form text generation. We open-source $\\\\textit{LongGenBench}$ to promote comprehensive evaluation and improvement in this critical area, with code and data available at ${anonymousurl}$.\",\n",
       "  'Large Multimodal Models (LMMs) have made significant strides in visual question-answering for single images. Recent advancements like long-context LMMs have allowed them to ingest larger, or even multiple, images. However, the ability to process a large number of visual tokens does not guarantee effective retrieval and reasoning for multi-image question answering (MIQA), especially in real-world applications like photo album searches or satellite imagery analysis. In this work, we first assess the limitations of current benchmarks for long-context LMMs. We address these limitations by introducing a new vision-centric, long-context benchmark, \"Visual Haystacks (VHs)\". We comprehensively evaluate both open-source and proprietary models on VHs, and demonstrate that these models struggle when reasoning across potentially unrelated images, perform poorly on cross-image reasoning, as well as exhibit biases based on the placement of key information within the context window. Towards a solution, we introduce MIRAGE (Multi-Image Retrieval Augmented Generation), an open-source, lightweight visual-RAG framework that processes up to 10k images on a single 40G A100 GPU—far surpassing the 1k-image limit of contemporary models. MIRAGE demonstrates up to 13% performance improvement over existing open-source LMMs on VHs, sets a new state-of-the-art on the RetVQA multi-image QA benchmark, and achieves competitive performance on single-image QA with state-of-the-art LMMs. Our dataset, model, and code are available at: https://visual-haystacks.github.io.'],\n",
       " 'forum_id_1': '3A71qNKWAS',\n",
       " 'forum_id_2': '9JCNPFL1f9',\n",
       " 'pair_id': '3A71qNKWAS_9JCNPFL1f9'}"
      ]
     },
     "execution_count": 2,
     "metadata": {},
     "output_type": "execute_result"
    }
   ],
   "source": [
    "ds['train'][0]"
   ]
  },
  {
   "cell_type": "code",
   "execution_count": 3,
   "metadata": {},
   "outputs": [
    {
     "data": {
      "application/vnd.jupyter.widget-view+json": {
       "model_id": "d5b9465a244943a2aa8eb7f7d0338c20",
       "version_major": 2,
       "version_minor": 0
      },
      "text/plain": [
       "Map (num_proc=24):   0%|          | 0/99897 [00:00<?, ? examples/s]"
      ]
     },
     "metadata": {},
     "output_type": "display_data"
    },
    {
     "data": {
      "application/vnd.jupyter.widget-view+json": {
       "model_id": "5c9b84777a8f4dd8b3b2ba9a2d136765",
       "version_major": 2,
       "version_minor": 0
      },
      "text/plain": [
       "Map (num_proc=24):   0%|          | 0/100 [00:00<?, ? examples/s]"
      ]
     },
     "metadata": {},
     "output_type": "display_data"
    },
    {
     "data": {
      "text/plain": [
       "Dataset({\n",
       "    features: ['paper1_prompt', 'paper2_prompt', 'no_context_prompt', 'abstracts', 'forum_id_1', 'forum_id_2', 'pair_id', 'data_source', 'prompt', 'ability', 'reward_model', 'extra_info'],\n",
       "    num_rows: 99897\n",
       "})"
      ]
     },
     "execution_count": 3,
     "metadata": {},
     "output_type": "execute_result"
    }
   ],
   "source": [
    "from typing import Dict, Any, Optional\n",
    "import os\n",
    "def make_map_fn(split: str):\n",
    "    \"\"\"Create a mapping function to process dataset examples.\n",
    "\n",
    "    Args:\n",
    "        split: Dataset split name ('train' or 'test')\n",
    "\n",
    "    Returns:\n",
    "        Function that processes individual dataset examples\n",
    "    \"\"\"\n",
    "    def process_fn(example: Dict[str, Any], idx: int) -> Optional[Dict[str, Any]]:\n",
    "        question = example.pop('joint_prompt')\n",
    "        answer = '' # empty string (dummy)\n",
    "\n",
    "        data = {\n",
    "            \"data_source\": \"\",\n",
    "            \"prompt\": [{\n",
    "                \"role\": \"user\",\n",
    "                \"content\": question\n",
    "            }],\n",
    "            \"ability\": \"insight\",\n",
    "            \"reward_model\": {\n",
    "                \"style\": \"rule\",\n",
    "                \"ground_truth\": answer\n",
    "            },\n",
    "            \"extra_info\": {\n",
    "                'joint_prompt': question,\n",
    "                'paper1_prompt': example['paper1_prompt'],\n",
    "                'paper2_prompt': example['paper2_prompt'],\n",
    "                'no_context_prompt': example['no_context_prompt'],\n",
    "                'abstracts': example['abstracts'],\n",
    "                'forum_id_1': example['forum_id_1'],\n",
    "                'forum_id_2': example['forum_id_2'],\n",
    "                'pair_id': example['pair_id'],\n",
    "                'split': split,\n",
    "                'index': idx\n",
    "            }\n",
    "        }\n",
    "        return data\n",
    "    return process_fn\n",
    "\n",
    "ds_train = ds['train'].map(function=make_map_fn('train'), with_indices=True, num_proc=os.cpu_count())\n",
    "ds_test = ds['test'].map(function=make_map_fn('test'), with_indices=True, num_proc=os.cpu_count())\n",
    "\n",
    "\n",
    "ds_train"
   ]
  },
  {
   "cell_type": "code",
   "execution_count": 4,
   "metadata": {},
   "outputs": [
    {
     "data": {
      "application/vnd.jupyter.widget-view+json": {
       "model_id": "bdbe17d8f75a423b955a1925ed1f91ab",
       "version_major": 2,
       "version_minor": 0
      },
      "text/plain": [
       "Map (num_proc=24):   0%|          | 0/99897 [00:00<?, ? examples/s]"
      ]
     },
     "metadata": {},
     "output_type": "display_data"
    },
    {
     "data": {
      "application/vnd.jupyter.widget-view+json": {
       "model_id": "a52348e20573431ead1c560139754c3a",
       "version_major": 2,
       "version_minor": 0
      },
      "text/plain": [
       "Map (num_proc=24):   0%|          | 0/100 [00:00<?, ? examples/s]"
      ]
     },
     "metadata": {},
     "output_type": "display_data"
    }
   ],
   "source": [
    "from transformers import AutoTokenizer\n",
    "tokenizer = AutoTokenizer.from_pretrained('Qwen/Qwen2.5-3B')\n",
    "\n",
    "def map_tok_length(example):\n",
    "    example['prompt_tok_length'] = len(tokenizer.encode(example['prompt'][0]['content']))\n",
    "    return example\n",
    "\n",
    "ds_train = ds_train.map(map_tok_length, num_proc=os.cpu_count())\n",
    "ds_test = ds_test.map(map_tok_length, num_proc=os.cpu_count())"
   ]
  },
  {
   "cell_type": "code",
   "execution_count": 5,
   "metadata": {},
   "outputs": [
    {
     "data": {
      "image/png": "[encoded data removed]",
      "text/plain": [
       "<Figure size 640x480 with 1 Axes>"
      ]
     },
     "metadata": {},
     "output_type": "display_data"
    },
    {
     "name": "stdout",
     "output_type": "stream",
     "text": [
      "Mean:  1079.125078831196\n",
      "Median:  1073.0\n",
      "Std:  85.79160184024276\n",
      "Min:  786\n",
      "Max:  1612\n",
      "99th percentile:  1307.0\n",
      "95th percentile:  1230.0\n",
      "90th percentile:  1191.0\n"
     ]
    }
   ],
   "source": [
    "from matplotlib import pyplot as plt\n",
    "from seaborn import histplot\n",
    "all_tok_lengths = ds_train['prompt_tok_length']\n",
    "histplot(all_tok_lengths)\n",
    "plt.show()\n",
    "\n",
    "import numpy as np\n",
    "print('Mean: ', np.mean(all_tok_lengths))\n",
    "print('Median: ', np.median(all_tok_lengths))\n",
    "print('Std: ', np.std(all_tok_lengths))\n",
    "print('Min: ', np.min(all_tok_lengths))\n",
    "print('Max: ', np.max(all_tok_lengths))\n",
    "print('99th percentile: ', np.percentile(all_tok_lengths, 99))\n",
    "print('95th percentile: ', np.percentile(all_tok_lengths, 95))\n",
    "print('90th percentile: ', np.percentile(all_tok_lengths, 90))"
   ]
  },
  {
   "cell_type": "code",
   "execution_count": 6,
   "metadata": {},
   "outputs": [
    {
     "data": {
      "image/png": "[encoded data removed]",
      "text/plain": [
       "<Figure size 640x480 with 1 Axes>"
      ]
     },
     "metadata": {},
     "output_type": "display_data"
    },
    {
     "name": "stdout",
     "output_type": "stream",
     "text": [
      "Mean:  1077.55\n",
      "Median:  1079.0\n",
      "Std:  84.86794153271305\n",
      "Min:  888\n",
      "Max:  1288\n",
      "99th percentile:  1252.3600000000001\n",
      "95th percentile:  1211.35\n",
      "90th percentile:  1193.1\n"
     ]
    }
   ],
   "source": [
    "from matplotlib import pyplot as plt\n",
    "from seaborn import histplot\n",
    "all_tok_lengths = ds_test['prompt_tok_length']\n",
    "histplot(all_tok_lengths)\n",
    "plt.show()\n",
    "\n",
    "import numpy as np\n",
    "print('Mean: ', np.mean(all_tok_lengths))\n",
    "print('Median: ', np.median(all_tok_lengths))\n",
    "print('Std: ', np.std(all_tok_lengths))\n",
    "print('Min: ', np.min(all_tok_lengths))\n",
    "print('Max: ', np.max(all_tok_lengths))\n",
    "print('99th percentile: ', np.percentile(all_tok_lengths, 99))\n",
    "print('95th percentile: ', np.percentile(all_tok_lengths, 95))\n",
    "print('90th percentile: ', np.percentile(all_tok_lengths, 90))"
   ]
  },
  {
   "cell_type": "code",
   "execution_count": 7,
   "metadata": {},
   "outputs": [
    {
     "data": {
      "text/plain": [
       "{'abstracts': [\"Current benchmarks like ``$\\\\textit{Needle-in-a-Haystack}$'' ($\\\\textit{NIAH}$), $\\\\textit{Ruler}$, and $\\\\textit{Needlebench}$ focus on models' ability to understand long-context input sequences but fail to capture a critical dimension: the generation of high-quality long-form text. Applications such as design proposals, technical documentation, and creative writing rely on coherent, instruction-following outputs over extended sequences—a challenge that existing benchmarks do not adequately address. To fill this gap, we introduce $\\\\textit{LongGenBench}$, a novel benchmark designed to rigorously evaluate large language models' (LLMs) ability to generate long text while adhering to complex instructions. Through tasks requiring specific events or constraints within generated text, $\\\\textit{LongGenBench}$ evaluates model performance across four distinct scenarios, three instruction types, and two generation-lengths (16K and 32K tokens). Our evaluation of ten state-of-the-art LLMs reveals that, despite strong results on $\\\\textit{Ruler}$, all models struggled with long text generation on $\\\\textit{LongGenBench}$, particularly as text length increased. This suggests that current LLMs are not yet equipped to meet the demands of real-world, long-form text generation. We open-source $\\\\textit{LongGenBench}$ to promote comprehensive evaluation and improvement in this critical area, with code and data available at ${anonymousurl}$.\",\n",
       "  'Large Multimodal Models (LMMs) have made significant strides in visual question-answering for single images. Recent advancements like long-context LMMs have allowed them to ingest larger, or even multiple, images. However, the ability to process a large number of visual tokens does not guarantee effective retrieval and reasoning for multi-image question answering (MIQA), especially in real-world applications like photo album searches or satellite imagery analysis. In this work, we first assess the limitations of current benchmarks for long-context LMMs. We address these limitations by introducing a new vision-centric, long-context benchmark, \"Visual Haystacks (VHs)\". We comprehensively evaluate both open-source and proprietary models on VHs, and demonstrate that these models struggle when reasoning across potentially unrelated images, perform poorly on cross-image reasoning, as well as exhibit biases based on the placement of key information within the context window. Towards a solution, we introduce MIRAGE (Multi-Image Retrieval Augmented Generation), an open-source, lightweight visual-RAG framework that processes up to 10k images on a single 40G A100 GPU—far surpassing the 1k-image limit of contemporary models. MIRAGE demonstrates up to 13% performance improvement over existing open-source LMMs on VHs, sets a new state-of-the-art on the RetVQA multi-image QA benchmark, and achieves competitive performance on single-image QA with state-of-the-art LMMs. Our dataset, model, and code are available at: https://visual-haystacks.github.io.'],\n",
       " 'forum_id_1': '3A71qNKWAS',\n",
       " 'forum_id_2': '9JCNPFL1f9',\n",
       " 'index': 0,\n",
       " 'joint_prompt': 'Your task is to identify and elaborate on an insight that only becomes apparent by combining information from both documents together—i.e., an insight that has high relevance when treating the documents jointly but low relevance if you were to consider each document alone. Write the insight as a standalone statement that does not reference the original texts or use terms like \"paper\" or \"document\". The insight should involve indirect connections or intermediate reasoning steps, such as linking cause and effect through a shared variable or mechanism. Here are some examples: Let A = magnesium — either dietary or internal to the body. Implicitly refers, inmost cases, to quantity of magnesium. Let M = migraine headache. Let L = one or more intermediate physiological links.  -> means \\'can or might influence\\'. == means \\'equivalent in action\\' or \\'equivalent in mechanism\\' depending on whether it connects two drugs or two diseases. Paper 1:\\nStress and Type A behavior are associated with migraine.\\nPaper 2:\\nStress and Type A behavior lead to body loss of magnesium.\\nFrom these, we infer: Let B = Stress and Type A behavior. Let A = Magnesium levels. Let M = Migraines. From paper 1: B -> M. From Paper 2: B -> A. This suggests A may mediate the effect of B on M, i.e., A -> M. <insight>Low magnesium levels may be an intermediate link through which stress and Type A behavior contribute to migraines.</insight>\\nPaper 1:\\nExcessive vascular tone and reactivity may increase susceptibility to migraine.\\nPaper 2:\\nMagnesium can reduce vascular tone and reactivity.\\nWe define: A = Magnesium. L = Vascular tone and reactivity. M = Migraine. From these: (a) suggests L -> M. (b) suggests A -> L. Therefore, combining the two leads to: A -> M. <insight>Magnesium may help reduce migraine susceptibility by lowering vascular tone and reactivity.</insight>\\nPaper 1:\\nCalcium channel blockers have been used successfully in preventing migraine attacks.\\nPaper 2:\\nMagnesium is a natural calcium channel blocker.\\nWe define: A = Magnesium. B = Calcium channel blockers. M = Migraine. From these:(a) suggests B -> M (i.e., B prevents M). (b) suggests A == B (A is equivalent to B in mechanism). Therefore: A -> M. <insight>Magnesium may help prevent migraine attacks because it acts as a natural calcium channel blocker, similar to drugs already known to be effective.</insight>\\nPaper 1:\\nCurrent benchmarks like ``$\\\\textit{Needle-in-a-Haystack}$\\'\\' ($\\\\textit{NIAH}$), $\\\\textit{Ruler}$, and $\\\\textit{Needlebench}$ focus on models\\' ability to understand long-context input sequences but fail to capture a critical dimension: the generation of high-quality long-form text. Applications such as design proposals, technical documentation, and creative writing rely on coherent, instruction-following outputs over extended sequences—a challenge that existing benchmarks do not adequately address. To fill this gap, we introduce $\\\\textit{LongGenBench}$, a novel benchmark designed to rigorously evaluate large language models\\' (LLMs) ability to generate long text while adhering to complex instructions. Through tasks requiring specific events or constraints within generated text, $\\\\textit{LongGenBench}$ evaluates model performance across four distinct scenarios, three instruction types, and two generation-lengths (16K and 32K tokens). Our evaluation of ten state-of-the-art LLMs reveals that, despite strong results on $\\\\textit{Ruler}$, all models struggled with long text generation on $\\\\textit{LongGenBench}$, particularly as text length increased. This suggests that current LLMs are not yet equipped to meet the demands of real-world, long-form text generation. We open-source $\\\\textit{LongGenBench}$ to promote comprehensive evaluation and improvement in this critical area, with code and data available at ${anonymousurl}$.\\nPaper 2:\\nLarge Multimodal Models (LMMs) have made significant strides in visual question-answering for single images. Recent advancements like long-context LMMs have allowed them to ingest larger, or even multiple, images. However, the ability to process a large number of visual tokens does not guarantee effective retrieval and reasoning for multi-image question answering (MIQA), especially in real-world applications like photo album searches or satellite imagery analysis. In this work, we first assess the limitations of current benchmarks for long-context LMMs. We address these limitations by introducing a new vision-centric, long-context benchmark, \"Visual Haystacks (VHs)\". We comprehensively evaluate both open-source and proprietary models on VHs, and demonstrate that these models struggle when reasoning across potentially unrelated images, perform poorly on cross-image reasoning, as well as exhibit biases based on the placement of key information within the context window. Towards a solution, we introduce MIRAGE (Multi-Image Retrieval Augmented Generation), an open-source, lightweight visual-RAG framework that processes up to 10k images on a single 40G A100 GPU—far surpassing the 1k-image limit of contemporary models. MIRAGE demonstrates up to 13% performance improvement over existing open-source LMMs on VHs, sets a new state-of-the-art on the RetVQA multi-image QA benchmark, and achieves competitive performance on single-image QA with state-of-the-art LMMs. Our dataset, model, and code are available at: https://visual-haystacks.github.io.\\nPut the insight between <insight> and </insight> tagsLet\\'s think step by step. ',\n",
       " 'no_context_prompt': 'Give me an insight. ',\n",
       " 'pair_id': '3A71qNKWAS_9JCNPFL1f9',\n",
       " 'paper1_prompt': 'Paper:\\nCurrent benchmarks like ``$\\\\textit{Needle-in-a-Haystack}$\\'\\' ($\\\\textit{NIAH}$), $\\\\textit{Ruler}$, and $\\\\textit{Needlebench}$ focus on models\\' ability to understand long-context input sequences but fail to capture a critical dimension: the generation of high-quality long-form text. Applications such as design proposals, technical documentation, and creative writing rely on coherent, instruction-following outputs over extended sequences—a challenge that existing benchmarks do not adequately address. To fill this gap, we introduce $\\\\textit{LongGenBench}$, a novel benchmark designed to rigorously evaluate large language models\\' (LLMs) ability to generate long text while adhering to complex instructions. Through tasks requiring specific events or constraints within generated text, $\\\\textit{LongGenBench}$ evaluates model performance across four distinct scenarios, three instruction types, and two generation-lengths (16K and 32K tokens). Our evaluation of ten state-of-the-art LLMs reveals that, despite strong results on $\\\\textit{Ruler}$, all models struggled with long text generation on $\\\\textit{LongGenBench}$, particularly as text length increased. This suggests that current LLMs are not yet equipped to meet the demands of real-world, long-form text generation. We open-source $\\\\textit{LongGenBench}$ to promote comprehensive evaluation and improvement in this critical area, with code and data available at ${anonymousurl}$.\\nYour task is to identify and elaborate on an insight from the paper. The insight should be self-contained. Write it in a way that doesn’t require referencing where it came from. Do not mention the word \"paper\" or \"document\". Let\\'s think step by step. ',\n",
       " 'paper2_prompt': 'Paper:\\nLarge Multimodal Models (LMMs) have made significant strides in visual question-answering for single images. Recent advancements like long-context LMMs have allowed them to ingest larger, or even multiple, images. However, the ability to process a large number of visual tokens does not guarantee effective retrieval and reasoning for multi-image question answering (MIQA), especially in real-world applications like photo album searches or satellite imagery analysis. In this work, we first assess the limitations of current benchmarks for long-context LMMs. We address these limitations by introducing a new vision-centric, long-context benchmark, \"Visual Haystacks (VHs)\". We comprehensively evaluate both open-source and proprietary models on VHs, and demonstrate that these models struggle when reasoning across potentially unrelated images, perform poorly on cross-image reasoning, as well as exhibit biases based on the placement of key information within the context window. Towards a solution, we introduce MIRAGE (Multi-Image Retrieval Augmented Generation), an open-source, lightweight visual-RAG framework that processes up to 10k images on a single 40G A100 GPU—far surpassing the 1k-image limit of contemporary models. MIRAGE demonstrates up to 13% performance improvement over existing open-source LMMs on VHs, sets a new state-of-the-art on the RetVQA multi-image QA benchmark, and achieves competitive performance on single-image QA with state-of-the-art LMMs. Our dataset, model, and code are available at: https://visual-haystacks.github.io.\\nYour task is to identify and elaborate on an insight from the paper. The insight should be self-contained. Write it in a way that doesn’t require referencing where it came from. Do not mention the word \"paper\" or \"document\". Let\\'s think step by step. ',\n",
       " 'split': 'train'}"
      ]
     },
     "execution_count": 7,
     "metadata": {},
     "output_type": "execute_result"
    }
   ],
   "source": [
    "ds_train['extra_info'][0]"
   ]
  },
  {
   "cell_type": "code",
   "execution_count": 8,
   "metadata": {},
   "outputs": [
    {
     "data": {
      "application/vnd.jupyter.widget-view+json": {
       "model_id": "f77cfe25c86f4dd4a5c32df762188598",
       "version_major": 2,
       "version_minor": 0
      },
      "text/plain": [
       "Creating parquet from Arrow format:   0%|          | 0/100 [00:00<?, ?ba/s]"
      ]
     },
     "metadata": {},
     "output_type": "display_data"
    },
    {
     "data": {
      "application/vnd.jupyter.widget-view+json": {
       "model_id": "12e052955eb54130b261a1f12bb4b58a",
       "version_major": 2,
       "version_minor": 0
      },
      "text/plain": [
       "Creating parquet from Arrow format:   0%|          | 0/1 [00:00<?, ?ba/s]"
      ]
     },
     "metadata": {},
     "output_type": "display_data"
    },
    {
     "data": {
      "text/plain": [
       "2281384"
      ]
     },
     "execution_count": 8,
     "metadata": {},
     "output_type": "execute_result"
    }
   ],
   "source": [
    "ds_train.to_parquet('/home/anikait.singh/rl_behaviors_verl_stable/data_insights_rl/train.parquet')\n",
    "ds_test.to_parquet('/home/anikait.singh/rl_behaviors_verl_stable/data_insights_rl/test.parquet')"
   ]
  },
  {
   "cell_type": "code",
   "execution_count": 9,
   "metadata": {},
   "outputs": [
    {
     "data": {
      "text/plain": [
       "Dataset({\n",
       "    features: ['paper1_prompt', 'paper2_prompt', 'no_context_prompt', 'abstracts', 'forum_id_1', 'forum_id_2', 'pair_id', 'data_source', 'prompt', 'ability', 'reward_model', 'extra_info', 'prompt_tok_length'],\n",
       "    num_rows: 99897\n",
       "})"
      ]
     },
     "execution_count": 9,
     "metadata": {},
     "output_type": "execute_result"
    }
   ],
   "source": [
    "ds_train"
   ]
  },
  {
   "cell_type": "code",
   "execution_count": 10,
   "metadata": {},
   "outputs": [
    {
     "data": {
      "text/plain": [
       "Dataset({\n",
       "    features: ['paper1_prompt', 'paper2_prompt', 'no_context_prompt', 'abstracts', 'forum_id_1', 'forum_id_2', 'pair_id', 'data_source', 'prompt', 'ability', 'reward_model', 'extra_info', 'prompt_tok_length'],\n",
       "    num_rows: 100\n",
       "})"
      ]
     },
     "execution_count": 10,
     "metadata": {},
     "output_type": "execute_result"
    }
   ],
   "source": [
    "ds_test"
   ]
  },
  {
   "cell_type": "code",
   "execution_count": 11,
   "metadata": {},
   "outputs": [
    {
     "data": {
      "application/vnd.jupyter.widget-view+json": {
       "model_id": "e45ad0b16f0d4793bd1f005f65c8e0c4",
       "version_major": 2,
       "version_minor": 0
      },
      "text/plain": [
       "Filter (num_proc=24):   0%|          | 0/100 [00:00<?, ? examples/s]"
      ]
     },
     "metadata": {},
     "output_type": "display_data"
    },
    {
     "data": {
      "text/plain": [
       "Dataset({\n",
       "    features: ['paper1_prompt', 'paper2_prompt', 'no_context_prompt', 'abstracts', 'forum_id_1', 'forum_id_2', 'pair_id', 'data_source', 'prompt', 'ability', 'reward_model', 'extra_info', 'prompt_tok_length'],\n",
       "    num_rows: 99\n",
       "})"
      ]
     },
     "execution_count": 11,
     "metadata": {},
     "output_type": "execute_result"
    }
   ],
   "source": [
    "ds_test_filt = ds_test.filter(lambda x: x['prompt_tok_length'] < 1280, num_proc=os.cpu_count())\n",
    "ds_test_filt"
   ]
  },
  {
   "cell_type": "code",
   "execution_count": 12,
   "metadata": {},
   "outputs": [
    {
     "data": {
      "application/vnd.jupyter.widget-view+json": {
       "model_id": "6df81d7ff0fe4d599617263547733ea9",
       "version_major": 2,
       "version_minor": 0
      },
      "text/plain": [
       "Uploading the dataset shards:   0%|          | 0/5 [00:00<?, ?it/s]"
      ]
     },
     "metadata": {},
     "output_type": "display_data"
    },
    {
     "data": {
      "application/vnd.jupyter.widget-view+json": {
       "model_id": "fd6b95c970cd42bba7065ee395752bcf",
       "version_major": 2,
       "version_minor": 0
      },
      "text/plain": [
       "Creating parquet from Arrow format:   0%|          | 0/20 [00:00<?, ?ba/s]"
      ]
     },
     "metadata": {},
     "output_type": "display_data"
    },
    {
     "data": {
      "application/vnd.jupyter.widget-view+json": {
       "model_id": "38a03d4690c5403b9ed216516b205f96",
       "version_major": 2,
       "version_minor": 0
      },
      "text/plain": [
       "Creating parquet from Arrow format:   0%|          | 0/20 [00:00<?, ?ba/s]"
      ]
     },
     "metadata": {},
     "output_type": "display_data"
    },
    {
     "data": {
      "application/vnd.jupyter.widget-view+json": {
       "model_id": "720e3627a31e45e5b5038dc18a65a5fc",
       "version_major": 2,
       "version_minor": 0
      },
      "text/plain": [
       "Creating parquet from Arrow format:   0%|          | 0/20 [00:00<?, ?ba/s]"
      ]
     },
     "metadata": {},
     "output_type": "display_data"
    },
    {
     "data": {
      "application/vnd.jupyter.widget-view+json": {
       "model_id": "534e2738418646d7b814bee9faf4d9ab",
       "version_major": 2,
       "version_minor": 0
      },
      "text/plain": [
       "Creating parquet from Arrow format:   0%|          | 0/20 [00:00<?, ?ba/s]"
      ]
     },
     "metadata": {},
     "output_type": "display_data"
    },
    {
     "data": {
      "application/vnd.jupyter.widget-view+json": {
       "model_id": "5fa0c8dcefa84323ab646ade1a60c554",
       "version_major": 2,
       "version_minor": 0
      },
      "text/plain": [
       "Creating parquet from Arrow format:   0%|          | 0/20 [00:00<?, ?ba/s]"
      ]
     },
     "metadata": {},
     "output_type": "display_data"
    },
    {
     "data": {
      "application/vnd.jupyter.widget-view+json": {
       "model_id": "bca7b20f07994f62b5dcafa84dfc6380",
       "version_major": 2,
       "version_minor": 0
      },
      "text/plain": [
       "Uploading the dataset shards:   0%|          | 0/1 [00:00<?, ?it/s]"
      ]
     },
     "metadata": {},
     "output_type": "display_data"
    },
    {
     "data": {
      "application/vnd.jupyter.widget-view+json": {
       "model_id": "943c357afca1405980c7c4f5f62d534d",
       "version_major": 2,
       "version_minor": 0
      },
      "text/plain": [
       "Creating parquet from Arrow format:   0%|          | 0/1 [00:00<?, ?ba/s]"
      ]
     },
     "metadata": {},
     "output_type": "display_data"
    },
    {
     "data": {
      "text/plain": [
       "CommitInfo(commit_url='https://huggingface.co/datasets/Asap7772/insight_rl/commit/b5b10268529cad659e396a6a0224ac354457392d', commit_message='Upload dataset', commit_description='', oid='b5b10268529cad659e396a6a0224ac354457392d', pr_url=None, repo_url=RepoUrl('https://huggingface.co/datasets/Asap7772/insight_rl', endpoint='https://huggingface.co', repo_type='dataset', repo_id='Asap7772/insight_rl'), pr_revision=None, pr_num=None)"
      ]
     },
     "execution_count": 12,
     "metadata": {},
     "output_type": "execute_result"
    }
   ],
   "source": [
    "ds_dict = datasets.DatasetDict({\n",
    "    'train': ds_train,\n",
    "    'test': ds_test\n",
    "})\n",
    "ds_dict.push_to_hub('Asap7772/insight_rl')"
   ]
  },
  {
   "cell_type": "code",
   "execution_count": 14,
   "metadata": {},
   "outputs": [
    {
     "name": "stdout",
     "output_type": "stream",
     "text": [
      "Your task is to identify and elaborate on an insight that only becomes apparent by combining information from both documents together—i.e., an insight that has high relevance when treating the documents jointly but low relevance if you were to consider each document alone. Write the insight as a standalone statement that does not reference the original texts or use terms like \"paper\" or \"document\". The insight should involve indirect connections or intermediate reasoning steps, such as linking cause and effect through a shared variable or mechanism. Here are some examples: Let A = magnesium — either dietary or internal to the body. Implicitly refers, inmost cases, to quantity of magnesium. Let M = migraine headache. Let L = one or more intermediate physiological links.  -> means 'can or might influence'. == means 'equivalent in action' or 'equivalent in mechanism' depending on whether it connects two drugs or two diseases. Paper 1:\n",
      "Stress and Type A behavior are associated with migraine.\n",
      "Paper 2:\n",
      "Stress and Type A behavior lead to body loss of magnesium.\n",
      "From these, we infer: Let B = Stress and Type A behavior. Let A = Magnesium levels. Let M = Migraines. From paper 1: B -> M. From Paper 2: B -> A. This suggests A may mediate the effect of B on M, i.e., A -> M. <insight>Low magnesium levels may be an intermediate link through which stress and Type A behavior contribute to migraines.</insight>\n",
      "Paper 1:\n",
      "Excessive vascular tone and reactivity may increase susceptibility to migraine.\n",
      "Paper 2:\n",
      "Magnesium can reduce vascular tone and reactivity.\n",
      "We define: A = Magnesium. L = Vascular tone and reactivity. M = Migraine. From these: (a) suggests L -> M. (b) suggests A -> L. Therefore, combining the two leads to: A -> M. <insight>Magnesium may help reduce migraine susceptibility by lowering vascular tone and reactivity.</insight>\n",
      "Paper 1:\n",
      "Calcium channel blockers have been used successfully in preventing migraine attacks.\n",
      "Paper 2:\n",
      "Magnesium is a natural calcium channel blocker.\n",
      "We define: A = Magnesium. B = Calcium channel blockers. M = Migraine. From these:(a) suggests B -> M (i.e., B prevents M). (b) suggests A == B (A is equivalent to B in mechanism). Therefore: A -> M. <insight>Magnesium may help prevent migraine attacks because it acts as a natural calcium channel blocker, similar to drugs already known to be effective.</insight>\n",
      "Paper 1:\n",
      "Current benchmarks like ``$\\textit{Needle-in-a-Haystack}$'' ($\\textit{NIAH}$), $\\textit{Ruler}$, and $\\textit{Needlebench}$ focus on models' ability to understand long-context input sequences but fail to capture a critical dimension: the generation of high-quality long-form text. Applications such as design proposals, technical documentation, and creative writing rely on coherent, instruction-following outputs over extended sequences—a challenge that existing benchmarks do not adequately address. To fill this gap, we introduce $\\textit{LongGenBench}$, a novel benchmark designed to rigorously evaluate large language models' (LLMs) ability to generate long text while adhering to complex instructions. Through tasks requiring specific events or constraints within generated text, $\\textit{LongGenBench}$ evaluates model performance across four distinct scenarios, three instruction types, and two generation-lengths (16K and 32K tokens). Our evaluation of ten state-of-the-art LLMs reveals that, despite strong results on $\\textit{Ruler}$, all models struggled with long text generation on $\\textit{LongGenBench}$, particularly as text length increased. This suggests that current LLMs are not yet equipped to meet the demands of real-world, long-form text generation. We open-source $\\textit{LongGenBench}$ to promote comprehensive evaluation and improvement in this critical area, with code and data available at ${anonymousurl}$.\n",
      "Paper 2:\n",
      "Large Multimodal Models (LMMs) have made significant strides in visual question-answering for single images. Recent advancements like long-context LMMs have allowed them to ingest larger, or even multiple, images. However, the ability to process a large number of visual tokens does not guarantee effective retrieval and reasoning for multi-image question answering (MIQA), especially in real-world applications like photo album searches or satellite imagery analysis. In this work, we first assess the limitations of current benchmarks for long-context LMMs. We address these limitations by introducing a new vision-centric, long-context benchmark, \"Visual Haystacks (VHs)\". We comprehensively evaluate both open-source and proprietary models on VHs, and demonstrate that these models struggle when reasoning across potentially unrelated images, perform poorly on cross-image reasoning, as well as exhibit biases based on the placement of key information within the context window. Towards a solution, we introduce MIRAGE (Multi-Image Retrieval Augmented Generation), an open-source, lightweight visual-RAG framework that processes up to 10k images on a single 40G A100 GPU—far surpassing the 1k-image limit of contemporary models. MIRAGE demonstrates up to 13% performance improvement over existing open-source LMMs on VHs, sets a new state-of-the-art on the RetVQA multi-image QA benchmark, and achieves competitive performance on single-image QA with state-of-the-art LMMs. Our dataset, model, and code are available at: https://visual-haystacks.github.io.\n",
      "Put the insight between <insight> and </insight> tagsLet's think step by step. \n"
     ]
    }
   ],
   "source": [
    "print(ds_train[0]['extra_info']['joint_prompt'])"
   ]
  },
  {
   "cell_type": "code",
   "execution_count": null,
   "metadata": {},
   "outputs": [],
   "source": []
  }
 ],
 "metadata": {
  "kernelspec": {
   "display_name": "verl",
   "language": "python",
   "name": "python3"
  },
  "language_info": {
   "codemirror_mode": {
    "name": "ipython",
    "version": 3
   },
   "file_extension": ".py",
   "mimetype": "text/x-python",
   "name": "python",
   "nbconvert_exporter": "python",
   "pygments_lexer": "ipython3",
   "version": "3.10.0"
  }
 },
 "nbformat": 4,
 "nbformat_minor": 2
}
