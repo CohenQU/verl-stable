{
 "cells": [
  {
   "cell_type": "code",
   "execution_count": 1,
   "metadata": {},
   "outputs": [
    {
     "data": {
      "text/plain": [
       "Dataset({\n",
       "    features: ['prompt', 'completion'],\n",
       "    num_rows: 749\n",
       "})"
      ]
     },
     "execution_count": 1,
     "metadata": {},
     "output_type": "execute_result"
    }
   ],
   "source": [
    "import datasets\n",
    "\n",
    "ds = datasets.load_dataset('joyheyueya/250428_sft', split='train')\n",
    "ds"
   ]
  },
  {
   "cell_type": "code",
   "execution_count": 2,
   "metadata": {},
   "outputs": [
    {
     "data": {
      "text/plain": [
       "{'prompt': 'Your task is to identify and elaborate on an insight that only becomes apparent by combining information from both documents together—i.e., an insight that has high relevance when treating the documents jointly but low relevance if you were to consider each document alone. Write the insight as a standalone statement that does not reference the original texts or use terms like \"paper\" or \"document\". The insight should involve indirect connections or intermediate reasoning steps, such as linking cause and effect through a shared variable or mechanism. Here are some examples: Let A = magnesium — either dietary or internal to the body. Implicitly refers, inmost cases, to quantity of magnesium. Let M = migraine headache. Let L = one or more intermediate physiological links.  -> means \\'can or might influence\\'. == means \\'equivalent in action\\' or \\'equivalent in mechanism\\' depending on whether it connects two drugs or two diseases. Paper 1:\\nStress and Type A behavior are associated with migraine.\\nPaper 2:\\nStress and Type A behavior lead to body loss of magnesium.\\nFrom these, we infer: Let B = Stress and Type A behavior. Let A = Magnesium levels. Let M = Migraines. From paper 1: B -> M. From Paper 2: B -> A. This suggests A may mediate the effect of B on M, i.e., A -> M. <insight>Low magnesium levels may be an intermediate link through which stress and Type A behavior contribute to migraines.</insight>\\nPaper 1:\\nExcessive vascular tone and reactivity may increase susceptibility to migraine.\\nPaper 2:\\nMagnesium can reduce vascular tone and reactivity.\\nWe define: A = Magnesium. L = Vascular tone and reactivity. M = Migraine. From these: (a) suggests L -> M. (b) suggests A -> L. Therefore, combining the two leads to: A -> M. <insight>Magnesium may help reduce migraine susceptibility by lowering vascular tone and reactivity.</insight>\\nPaper 1:\\nCalcium channel blockers have been used successfully in preventing migraine attacks.\\nPaper 2:\\nMagnesium is a natural calcium channel blocker.\\nWe define: A = Magnesium. B = Calcium channel blockers. M = Migraine. From these:(a) suggests B -> M (i.e., B prevents M). (b) suggests A == B (A is equivalent to B in mechanism). Therefore: A -> M. <insight>Magnesium may help prevent migraine attacks because it acts as a natural calcium channel blocker, similar to drugs already known to be effective.</insight>\\nPaper 1:\\nEXPONENTIAL\\nSCALABLE\\nCOMMUNICATION IN MULTI-AGENT REINFORCEMENT\\nLEARNING\\n\\nTOPOLOGY-ENABLED\\n\\nXinran Li1,2 Xiaolu Wang3∗ Chenjia Bai2\\n1The Hong Kong University of Science and Technology\\n2Institute of Artificial Intelligence (TeleAI), China Telecom\\n3Software Engineering Institute, East China Normal University\\nxinran.li@connect.ust.hk, xiaoluwang@sei.ecnu.edu.cn\\nbaicj@chinatelecom.cn, eejzhang@ust.hk\\n\\nJun Zhang1\\n\\nABSTRACT\\n\\nIn cooperative multi-agent reinforcement learning (MARL), well-designed com-\\nmunication protocols can effectively facilitate consensus among agents, thereby\\nenhancing task performance. Moreover,\\nin large-scale multi-agent systems\\ncommonly found in real-world applications, effective communication plays an\\neven more critical role due to the escalated challenge of partial observability\\ncompared to smaller-scale setups. In this work, we endeavor to develop a scalable\\ncommunication protocol for MARL. Unlike previous methods that focus on se-\\nlecting optimal pairwise communication links—a task that becomes increasingly\\ncomplex as the number of agents grows—we adopt a global perspective on com-\\nmunication topology design. Specifically, we propose utilizing the exponential\\ntopology to enable rapid information dissemination among agents by leveraging\\nits small-diameter and small-size properties. This approach leads to a scalable\\ncommunication protocol, named ExpoComm. To fully unlock the potential of\\nexponential graphs as communication topologies, we employ memory-based mes-\\nsage processors and auxiliary tasks to ground messages, ensuring that they reflect\\nglobal information and benefit decision-making. Extensive experiments on large-\\nscale cooperative benchmarks, including MAgent and Infrastructure Management\\nPlanning, demonstrate the superior performance and robust zero-shot transfer-\\nability of ExpoComm compared to existing communication strategies. The code\\nis publicly available at https://github.com/LXXXXR/ExpoComm.\\nPaper 2:\\nREGULARIZING ENERGY AMONG TRAINING SAMPLES\\nFOR OUT-OF-DISTRIBUTION GENERALIZATION\\n\\nYiting Chen1, Qitian Wu2∗& Junchi Yan1 †\\n1Sch. of Computer Science & Sch. of Artificial Intelligence, Shanghai Jiao Tong University\\n2Eric and Wendy Schmidt Center, Broad Institute of MIT and Harvard\\n{sjtucyt, yanjunchi}@sjtu.edu.cn, wuqitian@broadinstitute.org\\n\\nABSTRACT\\n\\nThe energy-based model provides a unified framework for various learning mod-\\nels where an energy value is assigned to each configuration of random variables\\nbased on probability. Recently, different methods have been proposed to derive an\\nenergy value out of the logits of a classifier for out-of-distribution (OOD) detec-\\ntion or OOD generalization. However, these methods mainly focus on the energy\\ndifference between in-distribution and OOD data samples, neglecting the energy\\ndifference among in-distribution data samples. In this paper, we show that the en-\\nergy among in-distribution data also requires attention. We propose to investigate\\nthe energy difference between in-distribution data samples. Both empirically and\\ntheoretically, we show that previous methods for subpopulation shift (e.g., long-\\ntail classification) such as data re-weighting and margin control apply implicit\\nenergy regularization and we provide a unified framework from the energy per-\\nspective. With the influence function, we further extend the energy regularization\\nframework to OOD generalization scenarios where the distribution shift is more\\nimplicit compared to the long-tail recognition scenario. We conduct experiments\\non long-tail datasets, subpopulation shift benchmarks, and OOD generalization\\nbenchmarks to show the effectiveness of the proposed energy regularization.\\nPut the insight between <insight> and </insight> tagsLet\\'s think step by step.',\n",
       " 'completion': '<insight>Managing the distribution and consistency of internal information or states within a system is crucial for maintaining robust performance during scaling or when encountering novel conditions.</insight>'}"
      ]
     },
     "execution_count": 2,
     "metadata": {},
     "output_type": "execute_result"
    }
   ],
   "source": [
    "ds[0]"
   ]
  },
  {
   "cell_type": "code",
   "execution_count": 3,
   "metadata": {},
   "outputs": [
    {
     "data": {
      "application/vnd.jupyter.widget-view+json": {
       "model_id": "a789f7015fa04b6e9a963dade73da722",
       "version_major": 2,
       "version_minor": 0
      },
      "text/plain": [
       "Map (num_proc=24):   0%|          | 0/749 [00:00<?, ? examples/s]"
      ]
     },
     "metadata": {},
     "output_type": "display_data"
    },
    {
     "name": "stdout",
     "output_type": "stream",
     "text": [
      "<|im_start|>user\n",
      "Your task is to identify and elaborate on an insight that only becomes apparent by combining information from both documents together—i.e., an insight that has high relevance when treating the documents jointly but low relevance if you were to consider each document alone. Write the insight as a standalone statement that does not reference the original texts or use terms like \"paper\" or \"document\". The insight should involve indirect connections or intermediate reasoning steps, such as linking cause and effect through a shared variable or mechanism. Here are some examples: Let A = magnesium — either dietary or internal to the body. Implicitly refers, inmost cases, to quantity of magnesium. Let M = migraine headache. Let L = one or more intermediate physiological links.  -> means 'can or might influence'. == means 'equivalent in action' or 'equivalent in mechanism' depending on whether it connects two drugs or two diseases. Paper 1:\n",
      "Stress and Type A behavior are associated with migraine.\n",
      "Paper 2:\n",
      "Stress and Type A behavior lead to body loss of magnesium.\n",
      "From these, we infer: Let B = Stress and Type A behavior. Let A = Magnesium levels. Let M = Migraines. From paper 1: B -> M. From Paper 2: B -> A. This suggests A may mediate the effect of B on M, i.e., A -> M. <insight>Low magnesium levels may be an intermediate link through which stress and Type A behavior contribute to migraines.</insight>\n",
      "Paper 1:\n",
      "Excessive vascular tone and reactivity may increase susceptibility to migraine.\n",
      "Paper 2:\n",
      "Magnesium can reduce vascular tone and reactivity.\n",
      "We define: A = Magnesium. L = Vascular tone and reactivity. M = Migraine. From these: (a) suggests L -> M. (b) suggests A -> L. Therefore, combining the two leads to: A -> M. <insight>Magnesium may help reduce migraine susceptibility by lowering vascular tone and reactivity.</insight>\n",
      "Paper 1:\n",
      "Calcium channel blockers have been used successfully in preventing migraine attacks.\n",
      "Paper 2:\n",
      "Magnesium is a natural calcium channel blocker.\n",
      "We define: A = Magnesium. B = Calcium channel blockers. M = Migraine. From these:(a) suggests B -> M (i.e., B prevents M). (b) suggests A == B (A is equivalent to B in mechanism). Therefore: A -> M. <insight>Magnesium may help prevent migraine attacks because it acts as a natural calcium channel blocker, similar to drugs already known to be effective.</insight>\n",
      "Paper 1:\n",
      "EXPONENTIAL\n",
      "SCALABLE\n",
      "COMMUNICATION IN MULTI-AGENT REINFORCEMENT\n",
      "LEARNING\n",
      "\n",
      "TOPOLOGY-ENABLED\n",
      "\n",
      "Xinran Li1,2 Xiaolu Wang3∗ Chenjia Bai2\n",
      "1The Hong Kong University of Science and Technology\n",
      "2Institute of Artificial Intelligence (TeleAI), China Telecom\n",
      "3Software Engineering Institute, East China Normal University\n",
      "xinran.li@connect.ust.hk, xiaoluwang@sei.ecnu.edu.cn\n",
      "baicj@chinatelecom.cn, eejzhang@ust.hk\n",
      "\n",
      "Jun Zhang1\n",
      "\n",
      "ABSTRACT\n",
      "\n",
      "In cooperative multi-agent reinforcement learning (MARL), well-designed com-\n",
      "munication protocols can effectively facilitate consensus among agents, thereby\n",
      "enhancing task performance. Moreover,\n",
      "in large-scale multi-agent systems\n",
      "commonly found in real-world applications, effective communication plays an\n",
      "even more critical role due to the escalated challenge of partial observability\n",
      "compared to smaller-scale setups. In this work, we endeavor to develop a scalable\n",
      "communication protocol for MARL. Unlike previous methods that focus on se-\n",
      "lecting optimal pairwise communication links—a task that becomes increasingly\n",
      "complex as the number of agents grows—we adopt a global perspective on com-\n",
      "munication topology design. Specifically, we propose utilizing the exponential\n",
      "topology to enable rapid information dissemination among agents by leveraging\n",
      "its small-diameter and small-size properties. This approach leads to a scalable\n",
      "communication protocol, named ExpoComm. To fully unlock the potential of\n",
      "exponential graphs as communication topologies, we employ memory-based mes-\n",
      "sage processors and auxiliary tasks to ground messages, ensuring that they reflect\n",
      "global information and benefit decision-making. Extensive experiments on large-\n",
      "scale cooperative benchmarks, including MAgent and Infrastructure Management\n",
      "Planning, demonstrate the superior performance and robust zero-shot transfer-\n",
      "ability of ExpoComm compared to existing communication strategies. The code\n",
      "is publicly available at https://github.com/LXXXXR/ExpoComm.\n",
      "Paper 2:\n",
      "REGULARIZING ENERGY AMONG TRAINING SAMPLES\n",
      "FOR OUT-OF-DISTRIBUTION GENERALIZATION\n",
      "\n",
      "Yiting Chen1, Qitian Wu2∗& Junchi Yan1 †\n",
      "1Sch. of Computer Science & Sch. of Artificial Intelligence, Shanghai Jiao Tong University\n",
      "2Eric and Wendy Schmidt Center, Broad Institute of MIT and Harvard\n",
      "{sjtucyt, yanjunchi}@sjtu.edu.cn, wuqitian@broadinstitute.org\n",
      "\n",
      "ABSTRACT\n",
      "\n",
      "The energy-based model provides a unified framework for various learning mod-\n",
      "els where an energy value is assigned to each configuration of random variables\n",
      "based on probability. Recently, different methods have been proposed to derive an\n",
      "energy value out of the logits of a classifier for out-of-distribution (OOD) detec-\n",
      "tion or OOD generalization. However, these methods mainly focus on the energy\n",
      "difference between in-distribution and OOD data samples, neglecting the energy\n",
      "difference among in-distribution data samples. In this paper, we show that the en-\n",
      "ergy among in-distribution data also requires attention. We propose to investigate\n",
      "the energy difference between in-distribution data samples. Both empirically and\n",
      "theoretically, we show that previous methods for subpopulation shift (e.g., long-\n",
      "tail classification) such as data re-weighting and margin control apply implicit\n",
      "energy regularization and we provide a unified framework from the energy per-\n",
      "spective. With the influence function, we further extend the energy regularization\n",
      "framework to OOD generalization scenarios where the distribution shift is more\n",
      "implicit compared to the long-tail recognition scenario. We conduct experiments\n",
      "on long-tail datasets, subpopulation shift benchmarks, and OOD generalization\n",
      "benchmarks to show the effectiveness of the proposed energy regularization.\n",
      "Put the insight between <insight> and </insight> tags. \n",
      "\n",
      "Let's think step by step.<|im_end|>\n",
      "<|im_start|>assistant\n",
      "\n"
     ]
    }
   ],
   "source": [
    "import os\n",
    "from transformers import AutoTokenizer\n",
    "tokenizer = AutoTokenizer.from_pretrained(\"Qwen/Qwen3-0.6B\")\n",
    "\n",
    "def apply_chat_template(example):\n",
    "    example['prompt'] = example['prompt'].replace(\"Let's think step by step.\", \". \\n\\nLet's think step by step.\")\n",
    "    chat = [{\"role\": \"user\", \"content\": example['prompt']}]\n",
    "    example['query'] = tokenizer.apply_chat_template(chat, tokenize=False, add_generation_prompt=True)\n",
    "    return example\n",
    "\n",
    "ds = ds.map(apply_chat_template, batched=False, num_proc=os.cpu_count(), remove_columns=['prompt'])\n",
    "print(ds[0]['query'])\n"
   ]
  },
  {
   "cell_type": "code",
   "execution_count": 4,
   "metadata": {},
   "outputs": [
    {
     "data": {
      "text/plain": [
       "Dataset({\n",
       "    features: ['completion', 'query'],\n",
       "    num_rows: 700\n",
       "})"
      ]
     },
     "execution_count": 4,
     "metadata": {},
     "output_type": "execute_result"
    }
   ],
   "source": [
    "ds = ds.shuffle(seed=42)\n",
    "num_test = 49\n",
    "num_train = len(ds) - num_test\n",
    "\n",
    "train_ds = ds.select(range(num_train))\n",
    "test_ds = ds.select(range(num_train, len(ds)))\n",
    "\n",
    "train_ds"
   ]
  },
  {
   "cell_type": "code",
   "execution_count": null,
   "metadata": {},
   "outputs": [],
   "source": []
  },
  {
   "cell_type": "code",
   "execution_count": 5,
   "metadata": {},
   "outputs": [
    {
     "data": {
      "application/vnd.jupyter.widget-view+json": {
       "model_id": "6e6738893d4a4afdb3112698e4701adf",
       "version_major": 2,
       "version_minor": 0
      },
      "text/plain": [
       "Creating parquet from Arrow format:   0%|          | 0/1 [00:00<?, ?ba/s]"
      ]
     },
     "metadata": {},
     "output_type": "display_data"
    },
    {
     "data": {
      "application/vnd.jupyter.widget-view+json": {
       "model_id": "d62ab2d2da304c5391031c2f30610c10",
       "version_major": 2,
       "version_minor": 0
      },
      "text/plain": [
       "Creating parquet from Arrow format:   0%|          | 0/1 [00:00<?, ?ba/s]"
      ]
     },
     "metadata": {},
     "output_type": "display_data"
    },
    {
     "data": {
      "text/plain": [
       "310271"
      ]
     },
     "execution_count": 5,
     "metadata": {},
     "output_type": "execute_result"
    }
   ],
   "source": [
    "output_dir = '/home/anikait.singh/rl_behaviors_verl_stable/data_insights_sft'\n",
    "train_ds.to_parquet(os.path.join(output_dir, 'train.parquet'))\n",
    "test_ds.to_parquet(os.path.join(output_dir, 'test.parquet'))"
   ]
  },
  {
   "cell_type": "code",
   "execution_count": null,
   "metadata": {},
   "outputs": [],
   "source": []
  }
 ],
 "metadata": {
  "kernelspec": {
   "display_name": "verl",
   "language": "python",
   "name": "python3"
  },
  "language_info": {
   "codemirror_mode": {
    "name": "ipython",
    "version": 3
   },
   "file_extension": ".py",
   "mimetype": "text/x-python",
   "name": "python",
   "nbconvert_exporter": "python",
   "pygments_lexer": "ipython3",
   "version": "3.10.0"
  }
 },
 "nbformat": 4,
 "nbformat_minor": 2
}
