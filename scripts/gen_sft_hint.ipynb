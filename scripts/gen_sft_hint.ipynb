{
 "cells": [
  {
   "cell_type": "code",
   "execution_count": 1,
   "metadata": {},
   "outputs": [],
   "source": [
    "import datasets\n",
    "from textwrap import dedent\n",
    "import os"
   ]
  },
  {
   "cell_type": "code",
   "execution_count": 2,
   "metadata": {},
   "outputs": [
    {
     "data": {
      "text/plain": [
       "DatasetDict({\n",
       "    train: Dataset({\n",
       "        features: ['problem', 'answer', 'nohint_responses', 'hint_responses', 'nohint_correct', 'hint_correct', 'source', 'difficulty', 'model', 'all_hints'],\n",
       "        num_rows: 727\n",
       "    })\n",
       "    test: Dataset({\n",
       "        features: ['problem', 'answer', 'nohint_responses', 'hint_responses', 'nohint_correct', 'hint_correct', 'source', 'difficulty', 'model', 'all_hints'],\n",
       "        num_rows: 81\n",
       "    })\n",
       "})"
      ]
     },
     "execution_count": 2,
     "metadata": {},
     "output_type": "execute_result"
    }
   ],
   "source": [
    "ds = datasets.load_dataset('Asap7772/hint_sol_gen_omnimath_41_mini', split='train')\n",
    "ds = ds.train_test_split(test_size=0.1, seed=42)\n",
    "ds"
   ]
  },
  {
   "cell_type": "code",
   "execution_count": 3,
   "metadata": {},
   "outputs": [],
   "source": [
    "from transformers import AutoTokenizer\n",
    "tokenizer = AutoTokenizer.from_pretrained(\"Qwen/Qwen3-0.6B\")"
   ]
  },
  {
   "cell_type": "code",
   "execution_count": 4,
   "metadata": {},
   "outputs": [
    {
     "data": {
      "application/vnd.jupyter.widget-view+json": {
       "model_id": "0ef0cdcddfe047cba370a276314242a1",
       "version_major": 2,
       "version_minor": 0
      },
      "text/plain": [
       "Map (num_proc=24):   0%|          | 0/727 [00:00<?, ? examples/s]"
      ]
     },
     "metadata": {},
     "output_type": "display_data"
    },
    {
     "data": {
      "application/vnd.jupyter.widget-view+json": {
       "model_id": "ad659f2210574a18bad6980f9a689ad0",
       "version_major": 2,
       "version_minor": 0
      },
      "text/plain": [
       "Map (num_proc=24):   0%|          | 0/81 [00:00<?, ? examples/s]"
      ]
     },
     "metadata": {},
     "output_type": "display_data"
    },
    {
     "data": {
      "text/plain": [
       "DatasetDict({\n",
       "    train: Dataset({\n",
       "        features: ['query', 'completion'],\n",
       "        num_rows: 727\n",
       "    })\n",
       "    test: Dataset({\n",
       "        features: ['query', 'completion'],\n",
       "        num_rows: 81\n",
       "    })\n",
       "})"
      ]
     },
     "execution_count": 4,
     "metadata": {},
     "output_type": "execute_result"
    }
   ],
   "source": [
    "# SFT for hint generation\n",
    "def map_hint_gen(example):\n",
    "    query_str = f\"\"\"\n",
    "# Task\n",
    "Generate a set of 5 hints for the following problem. Write the hints within a set of xml tags <note> and </note>.\n",
    "\n",
    "# Problem\n",
    "{example['problem']}\n",
    "\n",
    "# Hints\n",
    "    \"\"\"\n",
    "    prompt = dedent(query_str).strip()\n",
    "    chat = [{'role': 'user', 'content': prompt}]\n",
    "    example['query'] = tokenizer.apply_chat_template(chat, tokenize=False, add_generation_prompt=True)\n",
    "    example['completion'] = example['all_hints'].strip()\n",
    "    return example\n",
    "\n",
    "ds_hint_gen = ds.map(map_hint_gen, batched=False, num_proc=os.cpu_count(), remove_columns=ds['train'].column_names)\n",
    "ds_hint_gen"
   ]
  },
  {
   "cell_type": "code",
   "execution_count": 5,
   "metadata": {},
   "outputs": [
    {
     "name": "stdout",
     "output_type": "stream",
     "text": [
      "<|im_start|>user\n",
      "# Task\n",
      "Generate a set of 5 hints for the following problem. Write the hints within a set of xml tags <note> and </note>.\n",
      "\n",
      "# Problem\n",
      "Find all pairs of integers $a,b$ for which there exists a polynomial $P(x) \\in \\mathbb{Z}[X]$ such that product $(x^2+ax+b)\\cdot P(x)$ is a polynomial of a form \\[ x^n+c_{n-1}x^{n-1}+\\cdots+c_1x+c_0  \\] where each of $c_0,c_1,\\ldots,c_{n-1}$ is equal to $1$ or $-1$.\n",
      "\n",
      "# Hints<|im_end|>\n",
      "<|im_start|>assistant\n",
      "\n",
      "<notes>\n",
      "  <note>\n",
      "    <description>When multiplying two polynomials to obtain a target with specific leading and constant terms, equate the highest- and lowest-degree coefficients first.  This immediately forces the leading coefficients of the factors to multiply to the target’s leading coefficient, and similarly for constant terms.  It provides quick divisibility or sign constraints on those factor coefficients.</description>\n",
      "    <example>Suppose f(x)=u x+p and g(x)=v x+q produce a product with leading coefficient 1 and constant term ±1.  Equating highest-degree term gives u·v=1, so u and v are each ±1.  Equating constant term gives p·q=±1, so p and q are each ±1.  Thus only four sign choices remain to check.</example>\n",
      "  </note>\n",
      "  <note>\n",
      "    <description>Express each coefficient of the product as a convolution sum of factor coefficients.  Setting each resulting sum equal to a specified small value (e.g. ±1) yields a system of linear Diophantine equations.  Solving these recurrences or linear relations systematically determines permissible factor coefficients.</description>\n",
      "    <example>For f(x)=x^2+ax+b and g(x)=c₂x²+c₁x+c₀, the coefficient of x² in f·g is b·c₂ + a·c₁ + 1·c₀.  Requiring it to equal +1 gives b·c₂ + a·c₁ + c₀ =1.  Together with equations from coefficients of x³ and x¹, one obtains three linear relations in c₂,c₁,c₀ to solve.</example>\n",
      "  </note>\n",
      "  <note>\n",
      "    <description>Use bounding arguments: if an integer sum of several terms equals a small target (like ±1), then each term must itself be small.  This restricts possible values of individual coefficients in each factor to a finite, often small, set.  Thus one effectively shrinks an infinite search to checking a handful of cases.</description>\n",
      "    <example>Suppose three integers p, q, r satisfy p+q+r = ±1.  Since each is an integer, |p|,|q|,|r| ≤ |p+q+r| + (|others|) implies typically |p|,|q|,|r| ≤1.  Hence p,q,r ∈{−1,0,1}, reducing infinitely many Diophantine solutions to just 3³=27 possibilities.</example>\n",
      "  </note>\n",
      "  <note>\n",
      "    <description>Perform case splits on parameters that appear multiplicatively in the simplest coefficient equations.  If a product uv must equal ±1 in the integers, then u and v each lie in {−1,1}.  Branching on these few possibilities clarifies which parameter values remain viable and which must be discarded.</description>\n",
      "    <example>In a product (x+p)(P(x)), the constant-term equation is p·c₀=±1.  Since p,c₀ ∈ ℤ, one gets p ∈{−1,1} and c₀ ∈{−1,1}.  Checking these two cases separately often resolves the entire problem.</example>\n",
      "  </note>\n",
      "  <note>\n",
      "    <description>Once boundary coefficients are fixed, recursively determine the remaining coefficients by solving the linear relations from convolution in a forward or backward sweep.  At each step, check whether the newly defined coefficient stays within allowed bounds (e.g. ±1).  This constructive approach either builds a valid factor or reveals an impossibility early.</description>\n",
      "    <example>After fixing cₙ =1 and c₀ =1 for a desired product with ±1 coefficients, one uses the relation b·c₁ + a·c₀ = ±1 to solve for c₁.  Then uses b·c₂ + a·c₁ + c₀ = ±1 to solve for c₂, and so on.  If any c_k falls outside {−1,1}, the choice of initial signs fails and one returns to an earlier case.</example>\n",
      "  </note>\n",
      "</notes>\n"
     ]
    }
   ],
   "source": [
    "print(ds_hint_gen['train'][0]['query'])\n",
    "print(ds_hint_gen['train'][0]['completion'])"
   ]
  },
  {
   "cell_type": "code",
   "execution_count": 6,
   "metadata": {},
   "outputs": [
    {
     "data": {
      "application/vnd.jupyter.widget-view+json": {
       "model_id": "57208538c7c54ebdbecd0eb0739dcc5a",
       "version_major": 2,
       "version_minor": 0
      },
      "text/plain": [
       "Creating parquet from Arrow format:   0%|          | 0/1 [00:00<?, ?ba/s]"
      ]
     },
     "metadata": {},
     "output_type": "display_data"
    },
    {
     "data": {
      "application/vnd.jupyter.widget-view+json": {
       "model_id": "da91768e0fcc4c96bbb07ead42f65fd8",
       "version_major": 2,
       "version_minor": 0
      },
      "text/plain": [
       "Creating parquet from Arrow format:   0%|          | 0/1 [00:00<?, ?ba/s]"
      ]
     },
     "metadata": {},
     "output_type": "display_data"
    },
    {
     "data": {
      "text/plain": [
       "245450"
      ]
     },
     "execution_count": 6,
     "metadata": {},
     "output_type": "execute_result"
    }
   ],
   "source": [
    "ds_hint_gen['train'].to_parquet('/home/anikait.singh/rl_behaviors_verl_stable/hint_gen_sft/train.parquet')\n",
    "ds_hint_gen['test'].to_parquet('/home/anikait.singh/rl_behaviors_verl_stable/hint_gen_sft/test.parquet')"
   ]
  },
  {
   "cell_type": "code",
   "execution_count": 12,
   "metadata": {},
   "outputs": [
    {
     "data": {
      "application/vnd.jupyter.widget-view+json": {
       "model_id": "00d113d2d2d846f89716a23d0bd4fb72",
       "version_major": 2,
       "version_minor": 0
      },
      "text/plain": [
       "Creating parquet from Arrow format:   0%|          | 0/1 [00:00<?, ?ba/s]"
      ]
     },
     "metadata": {},
     "output_type": "display_data"
    },
    {
     "data": {
      "application/vnd.jupyter.widget-view+json": {
       "model_id": "b73f58b5a5514bfab992c2542dd93dce",
       "version_major": 2,
       "version_minor": 0
      },
      "text/plain": [
       "Creating parquet from Arrow format:   0%|          | 0/1 [00:00<?, ?ba/s]"
      ]
     },
     "metadata": {},
     "output_type": "display_data"
    },
    {
     "data": {
      "text/plain": [
       "229156"
      ]
     },
     "execution_count": 12,
     "metadata": {},
     "output_type": "execute_result"
    }
   ],
   "source": [
    "import random\n",
    "per_no_hint = 0.2\n",
    "\n",
    "math_prefix = \"Solve the following math problem. Give your final answer as \\\\boxed{}.\"\n",
    "\n",
    "def map_fn_hint_cond_sol(example):\n",
    "    curr_hint = example['all_hints']\n",
    "    prompt_no_hint = f\"{math_prefix}\\n{example['problem']}\"\n",
    "    prompt_hint = f\"{math_prefix}\\n{example['problem']}\\n{curr_hint}\"\n",
    "    remaining_sols_no_hint = [no_hint_sol for no_hint_sol, no_hint_sol_correct in zip(example['nohint_responses'], example['nohint_correct']) if no_hint_sol_correct]\n",
    "    remaining_sols_hint = [hint_sol for hint_sol, hint_sol_correct in zip(example['hint_responses'], example['hint_correct']) if hint_sol_correct]\n",
    "    if random.random() < per_no_hint:\n",
    "        if len(remaining_sols_no_hint) > 0:\n",
    "            prompt = prompt_no_hint\n",
    "            example['completion'] = remaining_sols_no_hint[0]\n",
    "        else:\n",
    "            prompt = prompt_hint\n",
    "            example['completion'] = None\n",
    "    else:\n",
    "        if len(remaining_sols_hint) > 0:\n",
    "            prompt = prompt_hint\n",
    "            example['completion'] = remaining_sols_hint[0]\n",
    "        else:\n",
    "            prompt = prompt_no_hint\n",
    "            example['completion'] = None\n",
    "            \n",
    "    chat = [{'role': 'user', 'content': prompt}]\n",
    "    example['query'] = tokenizer.apply_chat_template(chat, tokenize=False, add_generation_prompt=True)\n",
    "    return example\n",
    "\n",
    "ds_hint_cond_sol = ds.map(map_fn_hint_cond_sol, batched=False, num_proc=os.cpu_count(), remove_columns=ds['train'].column_names)\n",
    "def filter_fn_hint_cond_sol(example):\n",
    "    return example['completion'] is not None\n",
    "\n",
    "ds_hint_cond_sol = ds_hint_cond_sol.filter(filter_fn_hint_cond_sol, num_proc=os.cpu_count())\n",
    "\n",
    "ds_hint_cond_sol['train'].to_parquet('/home/anikait.singh/rl_behaviors_verl_stable/hint_cond_sol_gen_sft/train.parquet')\n",
    "ds_hint_cond_sol['test'].to_parquet('/home/anikait.singh/rl_behaviors_verl_stable/hint_cond_sol_gen_sft/test.parquet')\n"
   ]
  },
  {
   "cell_type": "code",
   "execution_count": 11,
   "metadata": {},
   "outputs": [
    {
     "name": "stdout",
     "output_type": "stream",
     "text": [
      "<|im_start|>user\n",
      "Solve the following math problem. Give your final answer as \\boxed{}.\n",
      "If $3+\\triangle=5$ and $\\triangle+\\square=7$, what is the value of $\\triangle+\\Delta+\\Delta+\\square+\\square$?\n",
      "<notes>\n",
      "  <note>\n",
      "    <description>Translate stated relationships into algebraic equations by assigning each unknown to a variable and expressing each “sum equals” or “difference equals” statement as an equation. This converts a word or symbol puzzle into a form amenable to algebraic manipulation.</description>\n",
      "    <example>Suppose you’re told “a plus b equals c.” Introduce variables x and y for the unknowns and write x + y = c. If another statement is “x minus d equals e,” write x − d = e. This formalization allows systematic solving.</example>\n",
      "  </note>\n",
      "  <note>\n",
      "    <description>Isolate a variable in a simple linear equation by applying inverse operations. For an equation of the form x + A = B or x − A = B, subtract or add A to both sides to solve for x.</description>\n",
      "    <example>Given x + 4 = 9, subtract 4 from both sides to obtain x = 9 − 4 = 5. If you had x − 2 = 7, add 2 to get x = 7 + 2 = 9.</example>\n",
      "  </note>\n",
      "  <note>\n",
      "    <description>Use substitution to solve a system of two linear equations once one variable is known. Replace the known variable’s symbol in the other equation to reduce it to a single-variable equation.</description>\n",
      "    <example>If you find x = 3 from one equation and the second equation is x + y = 8, substitute x = 3 to get 3 + y = 8, then solve y = 8 − 3 = 5.</example>\n",
      "  </note>\n",
      "  <note>\n",
      "    <description>Recognize that adding the same variable multiple times is equivalent to multiplying that variable by the count of terms. This simplifies expressions involving repeated sums of the same unknown.</description>\n",
      "    <example>Instead of writing x + x + x, rewrite it as 3x. So an expression like x + x + y + y becomes 2x + 2y, making further arithmetic or substitution more straightforward.</example>\n",
      "  </note>\n",
      "</notes><|im_end|>\n",
      "<|im_start|>assistant\n",
      "\n",
      "Given:\n",
      "\\[\n",
      "3 + \\triangle = 5\n",
      "\\]\n",
      "and\n",
      "\\[\n",
      "\\triangle + \\square = 7\n",
      "\\]\n",
      "\n",
      "---\n",
      "\n",
      "Step 1: Solve for \\(\\triangle\\) from the first equation:\n",
      "\\[\n",
      "3 + \\triangle = 5 \\implies \\triangle = 5 - 3 = 2\n",
      "\\]\n",
      "\n",
      "---\n",
      "\n",
      "Step 2: Substitute \\(\\triangle = 2\\) into the second equation:\n",
      "\\[\n",
      "2 + \\square = 7 \\implies \\square = 7 - 2 = 5\n",
      "\\]\n",
      "\n",
      "---\n",
      "\n",
      "Step 3: Evaluate the expression:\n",
      "\\[\n",
      "\\triangle + \\Delta + \\Delta + \\square + \\square\n",
      "\\]\n",
      "\n",
      "Assuming \\(\\triangle\\) and \\(\\Delta\\) represent the same variable (triangle symbol), both equal to 2.\n",
      "\n",
      "So,\n",
      "\\[\n",
      "\\triangle + \\Delta + \\Delta + \\square + \\square = 2 + 2 + 2 + 5 + 5\n",
      "\\]\n",
      "\n",
      "Sum:\n",
      "\\[\n",
      "2 + 2 + 2 = 6\n",
      "\\]\n",
      "\\[\n",
      "5 + 5 = 10\n",
      "\\]\n",
      "\\[\n",
      "6 + 10 = 16\n",
      "\\]\n",
      "\n",
      "---\n",
      "\n",
      "**Final answer:**\n",
      "\\[\n",
      "\\boxed{16}\n",
      "\\]\n"
     ]
    }
   ],
   "source": [
    "print(ds_hint_cond_sol['train']['query'][0])\n",
    "print(ds_hint_cond_sol['train']['completion'][0])"
   ]
  },
  {
   "cell_type": "code",
   "execution_count": null,
   "metadata": {},
   "outputs": [],
   "source": []
  }
 ],
 "metadata": {
  "kernelspec": {
   "display_name": "verl",
   "language": "python",
   "name": "python3"
  },
  "language_info": {
   "codemirror_mode": {
    "name": "ipython",
    "version": 3
   },
   "file_extension": ".py",
   "mimetype": "text/x-python",
   "name": "python",
   "nbconvert_exporter": "python",
   "pygments_lexer": "ipython3",
   "version": "3.10.0"
  }
 },
 "nbformat": 4,
 "nbformat_minor": 2
}
