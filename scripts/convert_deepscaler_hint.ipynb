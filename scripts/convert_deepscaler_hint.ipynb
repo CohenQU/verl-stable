{
 "cells": [
  {
   "cell_type": "code",
   "execution_count": 1,
   "metadata": {},
   "outputs": [
    {
     "data": {
      "text/plain": [
       "Dataset({\n",
       "    features: ['problem', 'answer', 'solution', 'note1', 'note2', 'note3', 'note4', 'note5'],\n",
       "    num_rows: 40000\n",
       "})"
      ]
     },
     "execution_count": 1,
     "metadata": {},
     "output_type": "execute_result"
    }
   ],
   "source": [
    "import datasets\n",
    "ds = datasets.load_dataset('yoonholee/deepscaler-from-solutions-o4-mini', split='train')\n",
    "ds"
   ]
  },
  {
   "cell_type": "code",
   "execution_count": 2,
   "metadata": {},
   "outputs": [
    {
     "name": "stdout",
     "output_type": "stream",
     "text": [
      "The operation $\\otimes$ is defined for all nonzero numbers by $a \\otimes b = \\frac{a^{2}}{b}$. Determine $[(1 \\otimes 2) \\otimes 3] - [1 \\otimes (2 \\otimes 3)]$.\n"
     ]
    }
   ],
   "source": [
    "print(ds['problem'][0])"
   ]
  },
  {
   "cell_type": "code",
   "execution_count": 3,
   "metadata": {},
   "outputs": [
    {
     "name": "stdout",
     "output_type": "stream",
     "text": [
      "<description>When given a custom binary operation, always apply its defining rule directly to the arguments. Substituting the inputs into the general formula ensures a correct evaluation regardless of how the operation is written.</description>\n",
      "<example>Suppose a binary operation ⊕ is defined by ⊕(x,y)=x²/y. To compute ⊕(m,n), replace x with m and y with n, yielding m²/n. For instance, ⊕(5,2)=25/2.</example>\n"
     ]
    }
   ],
   "source": [
    "print(ds['note1'][0])"
   ]
  },
  {
   "cell_type": "code",
   "execution_count": 4,
   "metadata": {},
   "outputs": [],
   "source": [
    "from transformers import AutoTokenizer\n",
    "tokenizer = AutoTokenizer.from_pretrained('Qwen/Qwen3-1.7B-Base')\n",
    "\n",
    "def generate_chat(query):\n",
    "    dialogue = [\n",
    "        {\n",
    "            \"role\": \"user\",\n",
    "            \"content\": f\"\"\"Given the following math problem, generate a list of insightful hints that help guide a student toward solving the problem. Each hint should be wrapped in a <note> block with the following structure:\n",
    "\n",
    "<note>\n",
    "<description>[Brief explanation of a key idea or technique relevant to the problem]</description>\n",
    "<example>[Concrete illustrative example that demonstrates the idea in action]</example>\n",
    "</note>\n",
    "Combine all hint blocks inside a <notes> element. Your goal is to help the student reason through the problem step-by-step by surfacing useful strategies, intermediate goals, or simplifications.\n",
    "\n",
    "Problem: {query}\"\"\"\n",
    "        }\n",
    "    ]\n",
    "    dialogue = tokenizer.apply_chat_template(dialogue, tokenize=False, add_generation_prompt=True)\n",
    "    return dialogue"
   ]
  },
  {
   "cell_type": "code",
   "execution_count": 5,
   "metadata": {},
   "outputs": [
    {
     "name": "stdout",
     "output_type": "stream",
     "text": [
      "<|im_start|>user\n",
      "Given the following math problem, generate a list of insightful hints that help guide a student toward solving the problem. Each hint should be wrapped in a <note> block with the following structure:\n",
      "\n",
      "<note>\n",
      "<description>[Brief explanation of a key idea or technique relevant to the problem]</description>\n",
      "<example>[Concrete illustrative example that demonstrates the idea in action]</example>\n",
      "</note>\n",
      "Combine all hint blocks inside a <notes> element. Your goal is to help the student reason through the problem step-by-step by surfacing useful strategies, intermediate goals, or simplifications.\n",
      "\n",
      "Problem: The operation $\\otimes$ is defined for all nonzero numbers by $a \\otimes b = \\frac{a^{2}}{b}$. Determine $[(1 \\otimes 2) \\otimes 3] - [1 \\otimes (2 \\otimes 3)]$.<|im_end|>\n",
      "<|im_start|>assistant\n",
      "\n"
     ]
    }
   ],
   "source": [
    "print(generate_chat(ds['problem'][0]))"
   ]
  },
  {
   "cell_type": "code",
   "execution_count": 6,
   "metadata": {},
   "outputs": [],
   "source": [
    "import prettytable\n",
    "import datasets\n",
    "import numpy as np\n",
    "from math_eval import is_equiv\n",
    "import xml.etree.ElementTree as ET\n",
    "from xml.dom import minidom\n",
    "from collections import defaultdict\n",
    "\n",
    "def format_notes(notes_list: list[str]) -> str:\n",
    "    \"\"\"Format a list of notes into a single valid XML string.\"\"\"\n",
    "    valid_notes = [f\"<note>{n}</note>\" for n in notes_list]\n",
    "    valid_notes_checked = []\n",
    "    for vn in valid_notes:\n",
    "        try:\n",
    "            ET.fromstring(f\"<note>{vn}</note>\")\n",
    "            valid_notes_checked.append(vn)\n",
    "        except ET.ParseError:\n",
    "            continue\n",
    "    notes_root = ET.Element(\"notes\")\n",
    "    for note_str in valid_notes_checked:\n",
    "        note_elem = ET.fromstring(note_str)\n",
    "        notes_root.append(note_elem)\n",
    "    rough_string = ET.tostring(notes_root, \"unicode\")\n",
    "    reparsed = minidom.parseString(rough_string)\n",
    "    xml_str = reparsed.toprettyxml(indent=\"  \")\n",
    "    lines = [line for line in xml_str.split(\"\\n\") if line.strip() and not line.startswith(\"<?xml\")]\n",
    "    return \"\\n\".join(lines)"
   ]
  },
  {
   "cell_type": "code",
   "execution_count": 7,
   "metadata": {},
   "outputs": [
    {
     "name": "stdout",
     "output_type": "stream",
     "text": [
      "<notes>\n",
      "  <note>\n",
      "    <description>When given a custom binary operation, always apply its defining rule directly to the arguments. Substituting the inputs into the general formula ensures a correct evaluation regardless of how the operation is written.</description>\n",
      "    <example>Suppose a binary operation ⊕ is defined by ⊕(x,y)=x²/y. To compute ⊕(m,n), replace x with m and y with n, yielding m²/n. For instance, ⊕(5,2)=25/2.</example>\n",
      "  </note>\n",
      "  <note>\n",
      "    <description>Be aware that not all operations are associative, so the placement of parentheses can change the result. Always respect the indicated grouping when an operation lacks the associative property.</description>\n",
      "    <example>With ⊕(x,y)=x²/y, compare ⊕(⊕(3,2),4) versus ⊕(3,⊕(2,4)). First gives ⊕(9/2,4)=(9/2)²/4=81/16, while the second gives ⊕(3,4/4)=3²/1=9, which are different.</example>\n",
      "  </note>\n",
      "  <note>\n",
      "    <description>Handle nested expressions by simplifying from the innermost parentheses outward. This step-by-step approach avoids errors and keeps intermediate results clear.</description>\n",
      "    <example>To evaluate ⊕(⊕(a,b),c), first compute k=⊕(a,b)=a²/b, then compute ⊕(k,c)=k²/c. For example, if a=4,b=1,c=2, get k=16, then k²/c=256/2=128.</example>\n",
      "  </note>\n",
      "  <note>\n",
      "    <description>Remember the reciprocal rule for dividing by a fraction: dividing by (p/q) is equivalent to multiplying by (q/p). Use this to simplify nested division expressions.</description>\n",
      "    <example>In ⊕(x, y/z)=x² / (y/z), rewrite as x²·(z/y). For x=3,y=4,z=5, this becomes 9·(5/4)=45/4.</example>\n",
      "  </note>\n",
      "  <note>\n",
      "    <description>When subtracting two fractions, convert them to a common denominator before subtracting their numerators. This ensures a straightforward and accurate difference.</description>\n",
      "    <example>To compute 2/3−3/5, rewrite both over 15: 10/15−9/15=1/15.</example>\n",
      "  </note>\n",
      "</notes>\n"
     ]
    }
   ],
   "source": [
    "all_notes = []\n",
    "for i in range(1, 6):\n",
    "    all_notes.append(ds[0][f'note{i}'])\n",
    "print(format_notes(all_notes))"
   ]
  },
  {
   "cell_type": "code",
   "execution_count": 8,
   "metadata": {},
   "outputs": [
    {
     "data": {
      "text/plain": [
       "{'query': '<|im_start|>user\\nGiven the following math problem, generate a list of insightful hints that help guide a student toward solving the problem. Each hint should be wrapped in a <note> block with the following structure:\\n\\n<note>\\n<description>[Brief explanation of a key idea or technique relevant to the problem]</description>\\n<example>[Concrete illustrative example that demonstrates the idea in action]</example>\\n</note>\\nCombine all hint blocks inside a <notes> element. Your goal is to help the student reason through the problem step-by-step by surfacing useful strategies, intermediate goals, or simplifications.\\n\\nProblem: The operation $\\\\otimes$ is defined for all nonzero numbers by $a \\\\otimes b = \\\\frac{a^{2}}{b}$. Determine $[(1 \\\\otimes 2) \\\\otimes 3] - [1 \\\\otimes (2 \\\\otimes 3)]$.<|im_end|>\\n<|im_start|>assistant\\n',\n",
       " 'completion': '<notes>\\n  <note>\\n    <description>When given a custom binary operation, always apply its defining rule directly to the arguments. Substituting the inputs into the general formula ensures a correct evaluation regardless of how the operation is written.</description>\\n    <example>Suppose a binary operation ⊕ is defined by ⊕(x,y)=x²/y. To compute ⊕(m,n), replace x with m and y with n, yielding m²/n. For instance, ⊕(5,2)=25/2.</example>\\n  </note>\\n  <note>\\n    <description>Be aware that not all operations are associative, so the placement of parentheses can change the result. Always respect the indicated grouping when an operation lacks the associative property.</description>\\n    <example>With ⊕(x,y)=x²/y, compare ⊕(⊕(3,2),4) versus ⊕(3,⊕(2,4)). First gives ⊕(9/2,4)=(9/2)²/4=81/16, while the second gives ⊕(3,4/4)=3²/1=9, which are different.</example>\\n  </note>\\n  <note>\\n    <description>Handle nested expressions by simplifying from the innermost parentheses outward. This step-by-step approach avoids errors and keeps intermediate results clear.</description>\\n    <example>To evaluate ⊕(⊕(a,b),c), first compute k=⊕(a,b)=a²/b, then compute ⊕(k,c)=k²/c. For example, if a=4,b=1,c=2, get k=16, then k²/c=256/2=128.</example>\\n  </note>\\n  <note>\\n    <description>Remember the reciprocal rule for dividing by a fraction: dividing by (p/q) is equivalent to multiplying by (q/p). Use this to simplify nested division expressions.</description>\\n    <example>In ⊕(x, y/z)=x²\\u200a/\\u200a(y/z), rewrite as x²·(z/y). For x=3,y=4,z=5, this becomes 9·(5/4)=45/4.</example>\\n  </note>\\n  <note>\\n    <description>When subtracting two fractions, convert them to a common denominator before subtracting their numerators. This ensures a straightforward and accurate difference.</description>\\n    <example>To compute 2/3−3/5, rewrite both over 15: 10/15−9/15=1/15.</example>\\n  </note>\\n</notes>'}"
      ]
     },
     "execution_count": 8,
     "metadata": {},
     "output_type": "execute_result"
    }
   ],
   "source": [
    "import os\n",
    "def map_example(example):\n",
    "    curr_problem = example['problem']\n",
    "    query = generate_chat(curr_problem)\n",
    "    all_notes = []\n",
    "    for i in range(1, 6):\n",
    "        all_notes.append(example[f'note{i}'])\n",
    "    completion = format_notes(all_notes)\n",
    "    \n",
    "    example['query'] = query\n",
    "    example['completion'] = completion\n",
    "    return example\n",
    "\n",
    "ds = ds.map(map_example, batched=False, num_proc=os.cpu_count(), remove_columns=ds.column_names)\n",
    "\n",
    "ds[0]"
   ]
  },
  {
   "cell_type": "code",
   "execution_count": 9,
   "metadata": {},
   "outputs": [
    {
     "name": "stdout",
     "output_type": "stream",
     "text": [
      "<|im_start|>user\n",
      "Given the following math problem, generate a list of insightful hints that help guide a student toward solving the problem. Each hint should be wrapped in a <note> block with the following structure:\n",
      "\n",
      "<note>\n",
      "<description>[Brief explanation of a key idea or technique relevant to the problem]</description>\n",
      "<example>[Concrete illustrative example that demonstrates the idea in action]</example>\n",
      "</note>\n",
      "Combine all hint blocks inside a <notes> element. Your goal is to help the student reason through the problem step-by-step by surfacing useful strategies, intermediate goals, or simplifications.\n",
      "\n",
      "Problem: The operation $\\otimes$ is defined for all nonzero numbers by $a \\otimes b = \\frac{a^{2}}{b}$. Determine $[(1 \\otimes 2) \\otimes 3] - [1 \\otimes (2 \\otimes 3)]$.<|im_end|>\n",
      "<|im_start|>assistant\n",
      "\n",
      "<notes>\n",
      "  <note>\n",
      "    <description>When given a custom binary operation, always apply its defining rule directly to the arguments. Substituting the inputs into the general formula ensures a correct evaluation regardless of how the operation is written.</description>\n",
      "    <example>Suppose a binary operation ⊕ is defined by ⊕(x,y)=x²/y. To compute ⊕(m,n), replace x with m and y with n, yielding m²/n. For instance, ⊕(5,2)=25/2.</example>\n",
      "  </note>\n",
      "  <note>\n",
      "    <description>Be aware that not all operations are associative, so the placement of parentheses can change the result. Always respect the indicated grouping when an operation lacks the associative property.</description>\n",
      "    <example>With ⊕(x,y)=x²/y, compare ⊕(⊕(3,2),4) versus ⊕(3,⊕(2,4)). First gives ⊕(9/2,4)=(9/2)²/4=81/16, while the second gives ⊕(3,4/4)=3²/1=9, which are different.</example>\n",
      "  </note>\n",
      "  <note>\n",
      "    <description>Handle nested expressions by simplifying from the innermost parentheses outward. This step-by-step approach avoids errors and keeps intermediate results clear.</description>\n",
      "    <example>To evaluate ⊕(⊕(a,b),c), first compute k=⊕(a,b)=a²/b, then compute ⊕(k,c)=k²/c. For example, if a=4,b=1,c=2, get k=16, then k²/c=256/2=128.</example>\n",
      "  </note>\n",
      "  <note>\n",
      "    <description>Remember the reciprocal rule for dividing by a fraction: dividing by (p/q) is equivalent to multiplying by (q/p). Use this to simplify nested division expressions.</description>\n",
      "    <example>In ⊕(x, y/z)=x² / (y/z), rewrite as x²·(z/y). For x=3,y=4,z=5, this becomes 9·(5/4)=45/4.</example>\n",
      "  </note>\n",
      "  <note>\n",
      "    <description>When subtracting two fractions, convert them to a common denominator before subtracting their numerators. This ensures a straightforward and accurate difference.</description>\n",
      "    <example>To compute 2/3−3/5, rewrite both over 15: 10/15−9/15=1/15.</example>\n",
      "  </note>\n",
      "</notes>\n"
     ]
    }
   ],
   "source": [
    "print(ds[0]['query'])\n",
    "print(ds[0]['completion'])"
   ]
  },
  {
   "cell_type": "code",
   "execution_count": 10,
   "metadata": {},
   "outputs": [
    {
     "data": {
      "text/plain": [
       "Dataset({\n",
       "    features: ['query', 'completion'],\n",
       "    num_rows: 40000\n",
       "})"
      ]
     },
     "execution_count": 10,
     "metadata": {},
     "output_type": "execute_result"
    }
   ],
   "source": [
    "ds"
   ]
  },
  {
   "cell_type": "code",
   "execution_count": 12,
   "metadata": {},
   "outputs": [
    {
     "data": {
      "application/vnd.jupyter.widget-view+json": {
       "model_id": "016947cd65c3494a8dec49056deca96e",
       "version_major": 2,
       "version_minor": 0
      },
      "text/plain": [
       "Filter (num_proc=24):   0%|          | 0/40000 [00:00<?, ? examples/s]"
      ]
     },
     "metadata": {},
     "output_type": "display_data"
    },
    {
     "data": {
      "text/plain": [
       "Dataset({\n",
       "    features: ['query', 'completion'],\n",
       "    num_rows: 31430\n",
       "})"
      ]
     },
     "execution_count": 12,
     "metadata": {},
     "output_type": "execute_result"
    }
   ],
   "source": [
    "def filter_fn(example):\n",
    "    return example['completion'].count('<note>') == 5\n",
    "ds = ds.filter(filter_fn, num_proc=os.cpu_count())\n",
    "ds"
   ]
  },
  {
   "cell_type": "code",
   "execution_count": 13,
   "metadata": {},
   "outputs": [
    {
     "data": {
      "text/plain": [
       "DatasetDict({\n",
       "    train: Dataset({\n",
       "        features: ['query', 'completion'],\n",
       "        num_rows: 29858\n",
       "    })\n",
       "    test: Dataset({\n",
       "        features: ['query', 'completion'],\n",
       "        num_rows: 1572\n",
       "    })\n",
       "})"
      ]
     },
     "execution_count": 13,
     "metadata": {},
     "output_type": "execute_result"
    }
   ],
   "source": [
    "ds_dict = ds.train_test_split(test_size=0.05, seed=42)\n",
    "ds_dict"
   ]
  },
  {
   "cell_type": "code",
   "execution_count": 14,
   "metadata": {},
   "outputs": [
    {
     "data": {
      "application/vnd.jupyter.widget-view+json": {
       "model_id": "0ad6b9c6858440ab97543316a14d722a",
       "version_major": 2,
       "version_minor": 0
      },
      "text/plain": [
       "Creating parquet from Arrow format:   0%|          | 0/30 [00:00<?, ?ba/s]"
      ]
     },
     "metadata": {},
     "output_type": "display_data"
    },
    {
     "data": {
      "application/vnd.jupyter.widget-view+json": {
       "model_id": "fba2ab501f7b486cbd6aca474e2e8150",
       "version_major": 2,
       "version_minor": 0
      },
      "text/plain": [
       "Creating parquet from Arrow format:   0%|          | 0/2 [00:00<?, ?ba/s]"
      ]
     },
     "metadata": {},
     "output_type": "display_data"
    },
    {
     "data": {
      "text/plain": [
       "5720970"
      ]
     },
     "execution_count": 14,
     "metadata": {},
     "output_type": "execute_result"
    }
   ],
   "source": [
    "base_dir = '/home/anikait.singh/rl_behaviors_verl_stable/data_deepscaler_hint_sft_filtered'\n",
    "os.makedirs(base_dir, exist_ok=True)\n",
    "ds_dict['train'].to_parquet(os.path.join(base_dir, 'train.parquet'))\n",
    "ds_dict['test'].to_parquet(os.path.join(base_dir, 'test.parquet'))"
   ]
  },
  {
   "cell_type": "code",
   "execution_count": 15,
   "metadata": {},
   "outputs": [
    {
     "data": {
      "application/vnd.jupyter.widget-view+json": {
       "model_id": "81027504cec947e2a966caae8f981879",
       "version_major": 2,
       "version_minor": 0
      },
      "text/plain": [
       "Uploading the dataset shards:   0%|          | 0/1 [00:00<?, ?it/s]"
      ]
     },
     "metadata": {},
     "output_type": "display_data"
    },
    {
     "data": {
      "application/vnd.jupyter.widget-view+json": {
       "model_id": "414273ee430a4410a0cae0b24ba7e93d",
       "version_major": 2,
       "version_minor": 0
      },
      "text/plain": [
       "Creating parquet from Arrow format:   0%|          | 0/30 [00:00<?, ?ba/s]"
      ]
     },
     "metadata": {},
     "output_type": "display_data"
    },
    {
     "data": {
      "application/vnd.jupyter.widget-view+json": {
       "model_id": "82ebaa500390440e987e747c7a8d58ef",
       "version_major": 2,
       "version_minor": 0
      },
      "text/plain": [
       "Uploading the dataset shards:   0%|          | 0/1 [00:00<?, ?it/s]"
      ]
     },
     "metadata": {},
     "output_type": "display_data"
    },
    {
     "data": {
      "application/vnd.jupyter.widget-view+json": {
       "model_id": "03bd5d10d5694e529027c52cc196b09a",
       "version_major": 2,
       "version_minor": 0
      },
      "text/plain": [
       "Creating parquet from Arrow format:   0%|          | 0/2 [00:00<?, ?ba/s]"
      ]
     },
     "metadata": {},
     "output_type": "display_data"
    },
    {
     "data": {
      "text/plain": [
       "CommitInfo(commit_url='https://huggingface.co/datasets/Asap7772/deepscaler_hint_sft_qwen3-1.7b-base/commit/81a67455396e36a35091a8d287b1f067c8bb3f64', commit_message='Upload dataset', commit_description='', oid='81a67455396e36a35091a8d287b1f067c8bb3f64', pr_url=None, repo_url=RepoUrl('https://huggingface.co/datasets/Asap7772/deepscaler_hint_sft_qwen3-1.7b-base', endpoint='https://huggingface.co', repo_type='dataset', repo_id='Asap7772/deepscaler_hint_sft_qwen3-1.7b-base'), pr_revision=None, pr_num=None)"
      ]
     },
     "execution_count": 15,
     "metadata": {},
     "output_type": "execute_result"
    }
   ],
   "source": [
    "ds_dict.push_to_hub('Asap7772/deepscaler_hint_sft_qwen3-1.7b-base')"
   ]
  },
  {
   "cell_type": "code",
   "execution_count": 16,
   "metadata": {},
   "outputs": [
    {
     "data": {
      "text/plain": [
       "Dataset({\n",
       "    features: ['query', 'completion'],\n",
       "    num_rows: 31430\n",
       "})"
      ]
     },
     "execution_count": 16,
     "metadata": {},
     "output_type": "execute_result"
    }
   ],
   "source": [
    "ds"
   ]
  },
  {
   "cell_type": "code",
   "execution_count": 17,
   "metadata": {},
   "outputs": [
    {
     "data": {
      "application/vnd.jupyter.widget-view+json": {
       "model_id": "f8964d4ef00241d48547ed515a96bcad",
       "version_major": 2,
       "version_minor": 0
      },
      "text/plain": [
       "Map (num_proc=24):   0%|          | 0/31430 [00:00<?, ? examples/s]"
      ]
     },
     "metadata": {},
     "output_type": "display_data"
    }
   ],
   "source": [
    "def map_example(example):\n",
    "    token_len = len(tokenizer(example['query'] + example['completion'])['input_ids'])\n",
    "    example['token_len'] = token_len\n",
    "    return example\n",
    "\n",
    "ds = ds.map(map_example, batched=False, num_proc=os.cpu_count())"
   ]
  },
  {
   "cell_type": "code",
   "execution_count": 18,
   "metadata": {},
   "outputs": [
    {
     "data": {
      "image/png": "[encoded data removed]",
      "text/plain": [
       "<Figure size 640x480 with 1 Axes>"
      ]
     },
     "metadata": {},
     "output_type": "display_data"
    }
   ],
   "source": [
    "import matplotlib.pyplot as plt\n",
    "import seaborn as sns\n",
    "\n",
    "sns.histplot(ds['token_len'])\n",
    "plt.show()"
   ]
  },
  {
   "cell_type": "code",
   "execution_count": 19,
   "metadata": {},
   "outputs": [
    {
     "name": "stdout",
     "output_type": "stream",
     "text": [
      "Mean token length:  941.9784918867324\n",
      "Median token length:  931.0\n",
      "Max token length:  4377\n",
      "Min token length:  562\n",
      "Std token length:  136.5300398464782\n",
      "99th percentile token length:  1311.0\n",
      "95th percentile token length:  1175.0\n",
      "90th percentile token length:  1113.0\n"
     ]
    }
   ],
   "source": [
    "import numpy as np\n",
    "all_token_lens = np.array(ds['token_len'])\n",
    "print('Mean token length: ', np.mean(all_token_lens))\n",
    "print('Median token length: ', np.median(all_token_lens))\n",
    "print('Max token length: ', np.max(all_token_lens))\n",
    "print('Min token length: ', np.min(all_token_lens))\n",
    "print('Std token length: ', np.std(all_token_lens))\n",
    "print('99th percentile token length: ', np.percentile(all_token_lens, 99))\n",
    "print('95th percentile token length: ', np.percentile(all_token_lens, 95))\n",
    "print('90th percentile token length: ', np.percentile(all_token_lens, 90))\n"
   ]
  },
  {
   "cell_type": "code",
   "execution_count": 21,
   "metadata": {},
   "outputs": [
    {
     "name": "stdout",
     "output_type": "stream",
     "text": [
      "<|im_start|>user\n",
      "Given the following math problem, generate a list of insightful hints that help guide a student toward solving the problem. Each hint should be wrapped in a <note> block with the following structure:\n",
      "\n",
      "<note>\n",
      "<description>[Brief explanation of a key idea or technique relevant to the problem]</description>\n",
      "<example>[Concrete illustrative example that demonstrates the idea in action]</example>\n",
      "</note>\n",
      "Combine all hint blocks inside a <notes> element. Your goal is to help the student reason through the problem step-by-step by surfacing useful strategies, intermediate goals, or simplifications.\n",
      "\n",
      "Problem: The operation $\\otimes$ is defined for all nonzero numbers by $a \\otimes b = \\frac{a^{2}}{b}$. Determine $[(1 \\otimes 2) \\otimes 3] - [1 \\otimes (2 \\otimes 3)]$.<|im_end|>\n",
      "<|im_start|>assistant\n",
      "\n",
      "<notes>\n",
      "  <note>\n",
      "    <description>When given a custom binary operation, always apply its defining rule directly to the arguments. Substituting the inputs into the general formula ensures a correct evaluation regardless of how the operation is written.</description>\n",
      "    <example>Suppose a binary operation ⊕ is defined by ⊕(x,y)=x²/y. To compute ⊕(m,n), replace x with m and y with n, yielding m²/n. For instance, ⊕(5,2)=25/2.</example>\n",
      "  </note>\n",
      "  <note>\n",
      "    <description>Be aware that not all operations are associative, so the placement of parentheses can change the result. Always respect the indicated grouping when an operation lacks the associative property.</description>\n",
      "    <example>With ⊕(x,y)=x²/y, compare ⊕(⊕(3,2),4) versus ⊕(3,⊕(2,4)). First gives ⊕(9/2,4)=(9/2)²/4=81/16, while the second gives ⊕(3,4/4)=3²/1=9, which are different.</example>\n",
      "  </note>\n",
      "  <note>\n",
      "    <description>Handle nested expressions by simplifying from the innermost parentheses outward. This step-by-step approach avoids errors and keeps intermediate results clear.</description>\n",
      "    <example>To evaluate ⊕(⊕(a,b),c), first compute k=⊕(a,b)=a²/b, then compute ⊕(k,c)=k²/c. For example, if a=4,b=1,c=2, get k=16, then k²/c=256/2=128.</example>\n",
      "  </note>\n",
      "  <note>\n",
      "    <description>Remember the reciprocal rule for dividing by a fraction: dividing by (p/q) is equivalent to multiplying by (q/p). Use this to simplify nested division expressions.</description>\n",
      "    <example>In ⊕(x, y/z)=x² / (y/z), rewrite as x²·(z/y). For x=3,y=4,z=5, this becomes 9·(5/4)=45/4.</example>\n",
      "  </note>\n",
      "  <note>\n",
      "    <description>When subtracting two fractions, convert them to a common denominator before subtracting their numerators. This ensures a straightforward and accurate difference.</description>\n",
      "    <example>To compute 2/3−3/5, rewrite both over 15: 10/15−9/15=1/15.</example>\n",
      "  </note>\n",
      "</notes>\n"
     ]
    }
   ],
   "source": [
    "print(ds[0]['query'])\n",
    "print(ds[0]['completion'])"
   ]
  },
  {
   "cell_type": "code",
   "execution_count": null,
   "metadata": {},
   "outputs": [],
   "source": []
  }
 ],
 "metadata": {
  "kernelspec": {
   "display_name": "verl",
   "language": "python",
   "name": "python3"
  },
  "language_info": {
   "codemirror_mode": {
    "name": "ipython",
    "version": 3
   },
   "file_extension": ".py",
   "mimetype": "text/x-python",
   "name": "python",
   "nbconvert_exporter": "python",
   "pygments_lexer": "ipython3",
   "version": "3.10.0"
  }
 },
 "nbformat": 4,
 "nbformat_minor": 2
}
